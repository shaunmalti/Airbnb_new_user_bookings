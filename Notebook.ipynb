{
 "cells": [
  {
   "cell_type": "code",
   "execution_count": 249,
   "metadata": {},
   "outputs": [],
   "source": [
    "import pandas as pd\n",
    "pd.set_option('display.max_columns', 50)\n",
    "pd.set_option('display.max_rows', 50)\n",
    "import numpy as np"
   ]
  },
  {
   "cell_type": "code",
   "execution_count": 250,
   "metadata": {},
   "outputs": [],
   "source": [
    "train = pd.read_csv('airbnb-recruiting-new-user-bookings/train_users_2.csv')\n",
    "test = pd.read_csv('airbnb-recruiting-new-user-bookings/test_users.csv')"
   ]
  },
  {
   "cell_type": "code",
   "execution_count": 251,
   "metadata": {},
   "outputs": [
    {
     "name": "stdout",
     "output_type": "stream",
     "text": [
      "(62096, 15)\n",
      "(213451, 16)\n"
     ]
    }
   ],
   "source": [
    "print(test.shape)\n",
    "print(train.shape)"
   ]
  },
  {
   "cell_type": "code",
   "execution_count": 252,
   "metadata": {},
   "outputs": [
    {
     "name": "stdout",
     "output_type": "stream",
     "text": [
      "Index(['id', 'date_account_created', 'timestamp_first_active',\n",
      "       'date_first_booking', 'gender', 'age', 'signup_method', 'signup_flow',\n",
      "       'language', 'affiliate_channel', 'affiliate_provider',\n",
      "       'first_affiliate_tracked', 'signup_app', 'first_device_type',\n",
      "       'first_browser'],\n",
      "      dtype='object')\n",
      "Index(['id', 'date_account_created', 'timestamp_first_active',\n",
      "       'date_first_booking', 'gender', 'age', 'signup_method', 'signup_flow',\n",
      "       'language', 'affiliate_channel', 'affiliate_provider',\n",
      "       'first_affiliate_tracked', 'signup_app', 'first_device_type',\n",
      "       'first_browser', 'country_destination'],\n",
      "      dtype='object')\n"
     ]
    }
   ],
   "source": [
    "print(test.columns)\n",
    "print(train.columns)"
   ]
  },
  {
   "cell_type": "code",
   "execution_count": 253,
   "metadata": {},
   "outputs": [],
   "source": [
    "train_y = train['country_destination']\n",
    "train.drop(['country_destination', 'id'], axis=1, inplace=True)"
   ]
  },
  {
   "cell_type": "code",
   "execution_count": 254,
   "metadata": {},
   "outputs": [],
   "source": [
    "df = pd.concat([train, test], sort=False)"
   ]
  },
  {
   "cell_type": "code",
   "execution_count": 255,
   "metadata": {},
   "outputs": [],
   "source": [
    "def explore(data):\n",
    "    summaryDf = pd.DataFrame(data.dtypes, columns=['dtypes'])\n",
    "    summaryDf = summaryDf.reset_index()\n",
    "    summaryDf['Name'] = summaryDf['index']\n",
    "    summaryDf['Missing'] = data.isnull().sum().values\n",
    "    summaryDf['Total'] = data.count().values\n",
    "    summaryDf['MissPerc'] = (summaryDf['Missing']/summaryDf['Total'])*100\n",
    "    summaryDf['NumUnique'] = data.nunique().values\n",
    "    summaryDf['UniqueVals'] = [data[col].unique() for col in data.columns]\n",
    "    print(summaryDf.head(50))"
   ]
  },
  {
   "cell_type": "code",
   "execution_count": 256,
   "metadata": {},
   "outputs": [
    {
     "name": "stdout",
     "output_type": "stream",
     "text": [
      "                      index   dtypes                     Name  Missing  \\\n",
      "0      date_account_created   object     date_account_created        0   \n",
      "1    timestamp_first_active    int64   timestamp_first_active        0   \n",
      "2        date_first_booking   object       date_first_booking   186639   \n",
      "3                    gender   object                   gender        0   \n",
      "4                       age  float64                      age   116866   \n",
      "5             signup_method   object            signup_method        0   \n",
      "6               signup_flow    int64              signup_flow        0   \n",
      "7                  language   object                 language        0   \n",
      "8         affiliate_channel   object        affiliate_channel        0   \n",
      "9        affiliate_provider   object       affiliate_provider        0   \n",
      "10  first_affiliate_tracked   object  first_affiliate_tracked     6085   \n",
      "11               signup_app   object               signup_app        0   \n",
      "12        first_device_type   object        first_device_type        0   \n",
      "13            first_browser   object            first_browser        0   \n",
      "14                       id   object                       id   213451   \n",
      "\n",
      "     Total    MissPerc  NumUnique  \\\n",
      "0   275547    0.000000       1726   \n",
      "1   275547    0.000000     275547   \n",
      "2    88908  209.923741       1976   \n",
      "3   275547    0.000000          4   \n",
      "4   158681   73.648389        145   \n",
      "5   275547    0.000000          4   \n",
      "6   275547    0.000000         18   \n",
      "7   275547    0.000000         26   \n",
      "8   275547    0.000000          8   \n",
      "9   275547    0.000000         18   \n",
      "10  269462    2.258203          7   \n",
      "11  275547    0.000000          4   \n",
      "12  275547    0.000000          9   \n",
      "13  275547    0.000000         55   \n",
      "14   62096  343.743558      62096   \n",
      "\n",
      "                                           UniqueVals  \n",
      "0   [2010-06-28, 2011-05-25, 2010-09-28, 2011-12-0...  \n",
      "1   [20090319043255, 20090523174809, 2009060923124...  \n",
      "2   [nan, 2010-08-02, 2012-09-08, 2010-02-18, 2010...  \n",
      "3                    [-unknown-, MALE, FEMALE, OTHER]  \n",
      "4   [nan, 38.0, 56.0, 42.0, 41.0, 46.0, 47.0, 50.0...  \n",
      "5                    [facebook, basic, google, weibo]  \n",
      "6   [0, 3, 2, 1, 24, 8, 6, 5, 10, 25, 12, 4, 16, 1...  \n",
      "7   [en, fr, de, es, it, pt, zh, ko, ja, ru, pl, e...  \n",
      "8   [direct, seo, other, sem-non-brand, content, s...  \n",
      "9   [direct, google, other, craigslist, facebook, ...  \n",
      "10  [untracked, omg, nan, linked, tracked-other, p...  \n",
      "11                         [Web, Moweb, iOS, Android]  \n",
      "12  [Mac Desktop, Windows Desktop, iPhone, Other/U...  \n",
      "13  [Chrome, IE, Firefox, Safari, -unknown-, Mobil...  \n",
      "14  [nan, 5uwns89zht, jtl0dijy2j, xx0ulgorjt, 6c6p...  \n"
     ]
    }
   ],
   "source": [
    "explore(df)"
   ]
  },
  {
   "cell_type": "markdown",
   "metadata": {},
   "source": [
    "# Data Exploration"
   ]
  },
  {
   "cell_type": "code",
   "execution_count": 257,
   "metadata": {},
   "outputs": [
    {
     "data": {
      "text/plain": [
       "count    158681.000000\n",
       "mean         47.145310\n",
       "std         142.629468\n",
       "min           1.000000\n",
       "25%          28.000000\n",
       "50%          33.000000\n",
       "75%          42.000000\n",
       "max        2014.000000\n",
       "Name: age, dtype: float64"
      ]
     },
     "execution_count": 257,
     "metadata": {},
     "output_type": "execute_result"
    }
   ],
   "source": [
    "df.age.describe()"
   ]
  },
  {
   "cell_type": "code",
   "execution_count": 258,
   "metadata": {},
   "outputs": [],
   "source": [
    "df.loc[(df['age'] < 16) | (df['age'] > 90), 'age'] = np.nan"
   ]
  },
  {
   "cell_type": "code",
   "execution_count": 259,
   "metadata": {},
   "outputs": [
    {
     "data": {
      "text/html": [
       "<div>\n",
       "<style scoped>\n",
       "    .dataframe tbody tr th:only-of-type {\n",
       "        vertical-align: middle;\n",
       "    }\n",
       "\n",
       "    .dataframe tbody tr th {\n",
       "        vertical-align: top;\n",
       "    }\n",
       "\n",
       "    .dataframe thead th {\n",
       "        text-align: right;\n",
       "    }\n",
       "</style>\n",
       "<table border=\"1\" class=\"dataframe\">\n",
       "  <thead>\n",
       "    <tr style=\"text-align: right;\">\n",
       "      <th></th>\n",
       "      <th>date_account_created</th>\n",
       "      <th>timestamp_first_active</th>\n",
       "      <th>date_first_booking</th>\n",
       "      <th>gender</th>\n",
       "      <th>age</th>\n",
       "      <th>signup_method</th>\n",
       "      <th>signup_flow</th>\n",
       "      <th>language</th>\n",
       "      <th>affiliate_channel</th>\n",
       "      <th>affiliate_provider</th>\n",
       "      <th>first_affiliate_tracked</th>\n",
       "      <th>signup_app</th>\n",
       "      <th>first_device_type</th>\n",
       "      <th>first_browser</th>\n",
       "      <th>id</th>\n",
       "    </tr>\n",
       "  </thead>\n",
       "  <tbody>\n",
       "    <tr>\n",
       "      <th>0</th>\n",
       "      <td>2010-06-28</td>\n",
       "      <td>20090319043255</td>\n",
       "      <td>NaN</td>\n",
       "      <td>-unknown-</td>\n",
       "      <td>NaN</td>\n",
       "      <td>facebook</td>\n",
       "      <td>0</td>\n",
       "      <td>en</td>\n",
       "      <td>direct</td>\n",
       "      <td>direct</td>\n",
       "      <td>untracked</td>\n",
       "      <td>Web</td>\n",
       "      <td>Mac Desktop</td>\n",
       "      <td>Chrome</td>\n",
       "      <td>NaN</td>\n",
       "    </tr>\n",
       "    <tr>\n",
       "      <th>1</th>\n",
       "      <td>2011-05-25</td>\n",
       "      <td>20090523174809</td>\n",
       "      <td>NaN</td>\n",
       "      <td>MALE</td>\n",
       "      <td>38.0</td>\n",
       "      <td>facebook</td>\n",
       "      <td>0</td>\n",
       "      <td>en</td>\n",
       "      <td>seo</td>\n",
       "      <td>google</td>\n",
       "      <td>untracked</td>\n",
       "      <td>Web</td>\n",
       "      <td>Mac Desktop</td>\n",
       "      <td>Chrome</td>\n",
       "      <td>NaN</td>\n",
       "    </tr>\n",
       "    <tr>\n",
       "      <th>2</th>\n",
       "      <td>2010-09-28</td>\n",
       "      <td>20090609231247</td>\n",
       "      <td>2010-08-02</td>\n",
       "      <td>FEMALE</td>\n",
       "      <td>56.0</td>\n",
       "      <td>basic</td>\n",
       "      <td>3</td>\n",
       "      <td>en</td>\n",
       "      <td>direct</td>\n",
       "      <td>direct</td>\n",
       "      <td>untracked</td>\n",
       "      <td>Web</td>\n",
       "      <td>Windows Desktop</td>\n",
       "      <td>IE</td>\n",
       "      <td>NaN</td>\n",
       "    </tr>\n",
       "    <tr>\n",
       "      <th>3</th>\n",
       "      <td>2011-12-05</td>\n",
       "      <td>20091031060129</td>\n",
       "      <td>2012-09-08</td>\n",
       "      <td>FEMALE</td>\n",
       "      <td>42.0</td>\n",
       "      <td>facebook</td>\n",
       "      <td>0</td>\n",
       "      <td>en</td>\n",
       "      <td>direct</td>\n",
       "      <td>direct</td>\n",
       "      <td>untracked</td>\n",
       "      <td>Web</td>\n",
       "      <td>Mac Desktop</td>\n",
       "      <td>Firefox</td>\n",
       "      <td>NaN</td>\n",
       "    </tr>\n",
       "    <tr>\n",
       "      <th>4</th>\n",
       "      <td>2010-09-14</td>\n",
       "      <td>20091208061105</td>\n",
       "      <td>2010-02-18</td>\n",
       "      <td>-unknown-</td>\n",
       "      <td>41.0</td>\n",
       "      <td>basic</td>\n",
       "      <td>0</td>\n",
       "      <td>en</td>\n",
       "      <td>direct</td>\n",
       "      <td>direct</td>\n",
       "      <td>untracked</td>\n",
       "      <td>Web</td>\n",
       "      <td>Mac Desktop</td>\n",
       "      <td>Chrome</td>\n",
       "      <td>NaN</td>\n",
       "    </tr>\n",
       "    <tr>\n",
       "      <th>...</th>\n",
       "      <td>...</td>\n",
       "      <td>...</td>\n",
       "      <td>...</td>\n",
       "      <td>...</td>\n",
       "      <td>...</td>\n",
       "      <td>...</td>\n",
       "      <td>...</td>\n",
       "      <td>...</td>\n",
       "      <td>...</td>\n",
       "      <td>...</td>\n",
       "      <td>...</td>\n",
       "      <td>...</td>\n",
       "      <td>...</td>\n",
       "      <td>...</td>\n",
       "      <td>...</td>\n",
       "    </tr>\n",
       "    <tr>\n",
       "      <th>62091</th>\n",
       "      <td>2014-09-30</td>\n",
       "      <td>20140930235232</td>\n",
       "      <td>NaN</td>\n",
       "      <td>-unknown-</td>\n",
       "      <td>31.0</td>\n",
       "      <td>basic</td>\n",
       "      <td>0</td>\n",
       "      <td>en</td>\n",
       "      <td>direct</td>\n",
       "      <td>direct</td>\n",
       "      <td>untracked</td>\n",
       "      <td>Web</td>\n",
       "      <td>Windows Desktop</td>\n",
       "      <td>IE</td>\n",
       "      <td>cv0na2lf5a</td>\n",
       "    </tr>\n",
       "    <tr>\n",
       "      <th>62092</th>\n",
       "      <td>2014-09-30</td>\n",
       "      <td>20140930235306</td>\n",
       "      <td>NaN</td>\n",
       "      <td>-unknown-</td>\n",
       "      <td>NaN</td>\n",
       "      <td>basic</td>\n",
       "      <td>23</td>\n",
       "      <td>ko</td>\n",
       "      <td>direct</td>\n",
       "      <td>direct</td>\n",
       "      <td>untracked</td>\n",
       "      <td>Android</td>\n",
       "      <td>Android Phone</td>\n",
       "      <td>-unknown-</td>\n",
       "      <td>zp8xfonng8</td>\n",
       "    </tr>\n",
       "    <tr>\n",
       "      <th>62093</th>\n",
       "      <td>2014-09-30</td>\n",
       "      <td>20140930235408</td>\n",
       "      <td>NaN</td>\n",
       "      <td>-unknown-</td>\n",
       "      <td>NaN</td>\n",
       "      <td>basic</td>\n",
       "      <td>0</td>\n",
       "      <td>de</td>\n",
       "      <td>direct</td>\n",
       "      <td>direct</td>\n",
       "      <td>linked</td>\n",
       "      <td>Web</td>\n",
       "      <td>Windows Desktop</td>\n",
       "      <td>Firefox</td>\n",
       "      <td>fa6260ziny</td>\n",
       "    </tr>\n",
       "    <tr>\n",
       "      <th>62094</th>\n",
       "      <td>2014-09-30</td>\n",
       "      <td>20140930235430</td>\n",
       "      <td>NaN</td>\n",
       "      <td>-unknown-</td>\n",
       "      <td>NaN</td>\n",
       "      <td>basic</td>\n",
       "      <td>0</td>\n",
       "      <td>en</td>\n",
       "      <td>sem-brand</td>\n",
       "      <td>google</td>\n",
       "      <td>omg</td>\n",
       "      <td>Web</td>\n",
       "      <td>Mac Desktop</td>\n",
       "      <td>Safari</td>\n",
       "      <td>87k0fy4ugm</td>\n",
       "    </tr>\n",
       "    <tr>\n",
       "      <th>62095</th>\n",
       "      <td>2014-09-30</td>\n",
       "      <td>20140930235901</td>\n",
       "      <td>NaN</td>\n",
       "      <td>FEMALE</td>\n",
       "      <td>49.0</td>\n",
       "      <td>basic</td>\n",
       "      <td>0</td>\n",
       "      <td>en</td>\n",
       "      <td>other</td>\n",
       "      <td>other</td>\n",
       "      <td>tracked-other</td>\n",
       "      <td>Web</td>\n",
       "      <td>Windows Desktop</td>\n",
       "      <td>Chrome</td>\n",
       "      <td>9uqfg8txu3</td>\n",
       "    </tr>\n",
       "  </tbody>\n",
       "</table>\n",
       "<p>275547 rows × 15 columns</p>\n",
       "</div>"
      ],
      "text/plain": [
       "      date_account_created  timestamp_first_active date_first_booking  \\\n",
       "0               2010-06-28          20090319043255                NaN   \n",
       "1               2011-05-25          20090523174809                NaN   \n",
       "2               2010-09-28          20090609231247         2010-08-02   \n",
       "3               2011-12-05          20091031060129         2012-09-08   \n",
       "4               2010-09-14          20091208061105         2010-02-18   \n",
       "...                    ...                     ...                ...   \n",
       "62091           2014-09-30          20140930235232                NaN   \n",
       "62092           2014-09-30          20140930235306                NaN   \n",
       "62093           2014-09-30          20140930235408                NaN   \n",
       "62094           2014-09-30          20140930235430                NaN   \n",
       "62095           2014-09-30          20140930235901                NaN   \n",
       "\n",
       "          gender   age signup_method  signup_flow language affiliate_channel  \\\n",
       "0      -unknown-   NaN      facebook            0       en            direct   \n",
       "1           MALE  38.0      facebook            0       en               seo   \n",
       "2         FEMALE  56.0         basic            3       en            direct   \n",
       "3         FEMALE  42.0      facebook            0       en            direct   \n",
       "4      -unknown-  41.0         basic            0       en            direct   \n",
       "...          ...   ...           ...          ...      ...               ...   \n",
       "62091  -unknown-  31.0         basic            0       en            direct   \n",
       "62092  -unknown-   NaN         basic           23       ko            direct   \n",
       "62093  -unknown-   NaN         basic            0       de            direct   \n",
       "62094  -unknown-   NaN         basic            0       en         sem-brand   \n",
       "62095     FEMALE  49.0         basic            0       en             other   \n",
       "\n",
       "      affiliate_provider first_affiliate_tracked signup_app first_device_type  \\\n",
       "0                 direct               untracked        Web       Mac Desktop   \n",
       "1                 google               untracked        Web       Mac Desktop   \n",
       "2                 direct               untracked        Web   Windows Desktop   \n",
       "3                 direct               untracked        Web       Mac Desktop   \n",
       "4                 direct               untracked        Web       Mac Desktop   \n",
       "...                  ...                     ...        ...               ...   \n",
       "62091             direct               untracked        Web   Windows Desktop   \n",
       "62092             direct               untracked    Android     Android Phone   \n",
       "62093             direct                  linked        Web   Windows Desktop   \n",
       "62094             google                     omg        Web       Mac Desktop   \n",
       "62095              other           tracked-other        Web   Windows Desktop   \n",
       "\n",
       "      first_browser          id  \n",
       "0            Chrome         NaN  \n",
       "1            Chrome         NaN  \n",
       "2                IE         NaN  \n",
       "3           Firefox         NaN  \n",
       "4            Chrome         NaN  \n",
       "...             ...         ...  \n",
       "62091            IE  cv0na2lf5a  \n",
       "62092     -unknown-  zp8xfonng8  \n",
       "62093       Firefox  fa6260ziny  \n",
       "62094        Safari  87k0fy4ugm  \n",
       "62095        Chrome  9uqfg8txu3  \n",
       "\n",
       "[275547 rows x 15 columns]"
      ]
     },
     "execution_count": 259,
     "metadata": {},
     "output_type": "execute_result"
    }
   ],
   "source": [
    "df"
   ]
  },
  {
   "cell_type": "code",
   "execution_count": 260,
   "metadata": {},
   "outputs": [],
   "source": [
    "df['date_account_created'] = pd.to_datetime(df['date_account_created'])\n",
    "df['date_first_booking'] = pd.to_datetime(df['date_first_booking'])\n",
    "df['timestamp_first_active'] = pd.to_datetime(df['timestamp_first_active']/1000000, format='%Y%m%d')"
   ]
  },
  {
   "cell_type": "code",
   "execution_count": 283,
   "metadata": {},
   "outputs": [],
   "source": [
    "df['year_acc'] = pd.DatetimeIndex(df['date_account_created']).year\n",
    "df['month_acc'] = pd.DatetimeIndex(df['date_account_created']).month\n",
    "df['day_acc'] = pd.DatetimeIndex(df['date_account_created']).day\n",
    "df['weekday_acc'] = pd.DatetimeIndex(df['date_account_created']).weekday\n",
    "# df.drop(['date_account_created'], axis=1, inplace=True)"
   ]
  },
  {
   "cell_type": "code",
   "execution_count": 262,
   "metadata": {},
   "outputs": [],
   "source": [
    "df.loc[df['gender']=='-unknown-', 'gender'] = np.nan"
   ]
  },
  {
   "cell_type": "code",
   "execution_count": 284,
   "metadata": {},
   "outputs": [],
   "source": [
    "df['year_act'] = pd.DatetimeIndex(df['timestamp_first_active']).year\n",
    "df['month_act'] = pd.DatetimeIndex(df['timestamp_first_active']).month\n",
    "df['day_act'] = pd.DatetimeIndex(df['timestamp_first_active']).day\n",
    "df['weekday_act'] = pd.DatetimeIndex(df['timestamp_first_active']).weekday\n",
    "# df.drop(['timestamp_first_active'], axis=1, inplace=True)"
   ]
  },
  {
   "cell_type": "code",
   "execution_count": 285,
   "metadata": {},
   "outputs": [],
   "source": [
    "df['year_fb'] = pd.DatetimeIndex(df['date_first_booking']).year\n",
    "df['month_fb'] = pd.DatetimeIndex(df['date_first_booking']).month\n",
    "df['day_fb'] = pd.DatetimeIndex(df['date_first_booking']).day\n",
    "df['weekday_fb'] = pd.DatetimeIndex(df['date_first_booking']).weekday\n",
    "# df.drop(['date_first_booking'], axis=1, inplace=True)"
   ]
  },
  {
   "cell_type": "code",
   "execution_count": 287,
   "metadata": {},
   "outputs": [
    {
     "data": {
      "text/html": [
       "<div>\n",
       "<style scoped>\n",
       "    .dataframe tbody tr th:only-of-type {\n",
       "        vertical-align: middle;\n",
       "    }\n",
       "\n",
       "    .dataframe tbody tr th {\n",
       "        vertical-align: top;\n",
       "    }\n",
       "\n",
       "    .dataframe thead th {\n",
       "        text-align: right;\n",
       "    }\n",
       "</style>\n",
       "<table border=\"1\" class=\"dataframe\">\n",
       "  <thead>\n",
       "    <tr style=\"text-align: right;\">\n",
       "      <th></th>\n",
       "      <th>date_account_created</th>\n",
       "      <th>timestamp_first_active</th>\n",
       "      <th>date_first_booking</th>\n",
       "      <th>gender</th>\n",
       "      <th>age</th>\n",
       "      <th>signup_method</th>\n",
       "      <th>signup_flow</th>\n",
       "      <th>language</th>\n",
       "      <th>affiliate_channel</th>\n",
       "      <th>affiliate_provider</th>\n",
       "      <th>first_affiliate_tracked</th>\n",
       "      <th>signup_app</th>\n",
       "      <th>first_device_type</th>\n",
       "      <th>first_browser</th>\n",
       "      <th>id</th>\n",
       "      <th>year_acc</th>\n",
       "      <th>month_acc</th>\n",
       "      <th>day_acc</th>\n",
       "      <th>year_act</th>\n",
       "      <th>month_act</th>\n",
       "      <th>day_act</th>\n",
       "      <th>year_fb</th>\n",
       "      <th>month_fb</th>\n",
       "      <th>day_fb</th>\n",
       "      <th>weekday_fb</th>\n",
       "      <th>weekday_acc</th>\n",
       "      <th>weekday_act</th>\n",
       "    </tr>\n",
       "  </thead>\n",
       "  <tbody>\n",
       "    <tr>\n",
       "      <th>0</th>\n",
       "      <td>2010-06-28</td>\n",
       "      <td>2009-03-19</td>\n",
       "      <td>NaT</td>\n",
       "      <td>NaN</td>\n",
       "      <td>NaN</td>\n",
       "      <td>facebook</td>\n",
       "      <td>0</td>\n",
       "      <td>en</td>\n",
       "      <td>direct</td>\n",
       "      <td>direct</td>\n",
       "      <td>untracked</td>\n",
       "      <td>Web</td>\n",
       "      <td>Mac Desktop</td>\n",
       "      <td>Chrome</td>\n",
       "      <td>NaN</td>\n",
       "      <td>2010</td>\n",
       "      <td>6</td>\n",
       "      <td>28</td>\n",
       "      <td>2009</td>\n",
       "      <td>3</td>\n",
       "      <td>19</td>\n",
       "      <td>NaN</td>\n",
       "      <td>NaN</td>\n",
       "      <td>NaN</td>\n",
       "      <td>NaN</td>\n",
       "      <td>0</td>\n",
       "      <td>3</td>\n",
       "    </tr>\n",
       "    <tr>\n",
       "      <th>1</th>\n",
       "      <td>2011-05-25</td>\n",
       "      <td>2009-05-23</td>\n",
       "      <td>NaT</td>\n",
       "      <td>MALE</td>\n",
       "      <td>38.0</td>\n",
       "      <td>facebook</td>\n",
       "      <td>0</td>\n",
       "      <td>en</td>\n",
       "      <td>seo</td>\n",
       "      <td>google</td>\n",
       "      <td>untracked</td>\n",
       "      <td>Web</td>\n",
       "      <td>Mac Desktop</td>\n",
       "      <td>Chrome</td>\n",
       "      <td>NaN</td>\n",
       "      <td>2011</td>\n",
       "      <td>5</td>\n",
       "      <td>25</td>\n",
       "      <td>2009</td>\n",
       "      <td>5</td>\n",
       "      <td>23</td>\n",
       "      <td>NaN</td>\n",
       "      <td>NaN</td>\n",
       "      <td>NaN</td>\n",
       "      <td>NaN</td>\n",
       "      <td>2</td>\n",
       "      <td>5</td>\n",
       "    </tr>\n",
       "    <tr>\n",
       "      <th>2</th>\n",
       "      <td>2010-09-28</td>\n",
       "      <td>2009-06-09</td>\n",
       "      <td>2010-08-02</td>\n",
       "      <td>FEMALE</td>\n",
       "      <td>56.0</td>\n",
       "      <td>basic</td>\n",
       "      <td>3</td>\n",
       "      <td>en</td>\n",
       "      <td>direct</td>\n",
       "      <td>direct</td>\n",
       "      <td>untracked</td>\n",
       "      <td>Web</td>\n",
       "      <td>Windows Desktop</td>\n",
       "      <td>IE</td>\n",
       "      <td>NaN</td>\n",
       "      <td>2010</td>\n",
       "      <td>9</td>\n",
       "      <td>28</td>\n",
       "      <td>2009</td>\n",
       "      <td>6</td>\n",
       "      <td>9</td>\n",
       "      <td>2010.0</td>\n",
       "      <td>8.0</td>\n",
       "      <td>2.0</td>\n",
       "      <td>0.0</td>\n",
       "      <td>1</td>\n",
       "      <td>1</td>\n",
       "    </tr>\n",
       "    <tr>\n",
       "      <th>3</th>\n",
       "      <td>2011-12-05</td>\n",
       "      <td>2009-10-31</td>\n",
       "      <td>2012-09-08</td>\n",
       "      <td>FEMALE</td>\n",
       "      <td>42.0</td>\n",
       "      <td>facebook</td>\n",
       "      <td>0</td>\n",
       "      <td>en</td>\n",
       "      <td>direct</td>\n",
       "      <td>direct</td>\n",
       "      <td>untracked</td>\n",
       "      <td>Web</td>\n",
       "      <td>Mac Desktop</td>\n",
       "      <td>Firefox</td>\n",
       "      <td>NaN</td>\n",
       "      <td>2011</td>\n",
       "      <td>12</td>\n",
       "      <td>5</td>\n",
       "      <td>2009</td>\n",
       "      <td>10</td>\n",
       "      <td>31</td>\n",
       "      <td>2012.0</td>\n",
       "      <td>9.0</td>\n",
       "      <td>8.0</td>\n",
       "      <td>5.0</td>\n",
       "      <td>0</td>\n",
       "      <td>5</td>\n",
       "    </tr>\n",
       "    <tr>\n",
       "      <th>4</th>\n",
       "      <td>2010-09-14</td>\n",
       "      <td>2009-12-08</td>\n",
       "      <td>2010-02-18</td>\n",
       "      <td>NaN</td>\n",
       "      <td>41.0</td>\n",
       "      <td>basic</td>\n",
       "      <td>0</td>\n",
       "      <td>en</td>\n",
       "      <td>direct</td>\n",
       "      <td>direct</td>\n",
       "      <td>untracked</td>\n",
       "      <td>Web</td>\n",
       "      <td>Mac Desktop</td>\n",
       "      <td>Chrome</td>\n",
       "      <td>NaN</td>\n",
       "      <td>2010</td>\n",
       "      <td>9</td>\n",
       "      <td>14</td>\n",
       "      <td>2009</td>\n",
       "      <td>12</td>\n",
       "      <td>8</td>\n",
       "      <td>2010.0</td>\n",
       "      <td>2.0</td>\n",
       "      <td>18.0</td>\n",
       "      <td>3.0</td>\n",
       "      <td>1</td>\n",
       "      <td>1</td>\n",
       "    </tr>\n",
       "    <tr>\n",
       "      <th>...</th>\n",
       "      <td>...</td>\n",
       "      <td>...</td>\n",
       "      <td>...</td>\n",
       "      <td>...</td>\n",
       "      <td>...</td>\n",
       "      <td>...</td>\n",
       "      <td>...</td>\n",
       "      <td>...</td>\n",
       "      <td>...</td>\n",
       "      <td>...</td>\n",
       "      <td>...</td>\n",
       "      <td>...</td>\n",
       "      <td>...</td>\n",
       "      <td>...</td>\n",
       "      <td>...</td>\n",
       "      <td>...</td>\n",
       "      <td>...</td>\n",
       "      <td>...</td>\n",
       "      <td>...</td>\n",
       "      <td>...</td>\n",
       "      <td>...</td>\n",
       "      <td>...</td>\n",
       "      <td>...</td>\n",
       "      <td>...</td>\n",
       "      <td>...</td>\n",
       "      <td>...</td>\n",
       "      <td>...</td>\n",
       "    </tr>\n",
       "    <tr>\n",
       "      <th>62091</th>\n",
       "      <td>2014-09-30</td>\n",
       "      <td>2014-09-30</td>\n",
       "      <td>NaT</td>\n",
       "      <td>NaN</td>\n",
       "      <td>31.0</td>\n",
       "      <td>basic</td>\n",
       "      <td>0</td>\n",
       "      <td>en</td>\n",
       "      <td>direct</td>\n",
       "      <td>direct</td>\n",
       "      <td>untracked</td>\n",
       "      <td>Web</td>\n",
       "      <td>Windows Desktop</td>\n",
       "      <td>IE</td>\n",
       "      <td>cv0na2lf5a</td>\n",
       "      <td>2014</td>\n",
       "      <td>9</td>\n",
       "      <td>30</td>\n",
       "      <td>2014</td>\n",
       "      <td>9</td>\n",
       "      <td>30</td>\n",
       "      <td>NaN</td>\n",
       "      <td>NaN</td>\n",
       "      <td>NaN</td>\n",
       "      <td>NaN</td>\n",
       "      <td>1</td>\n",
       "      <td>1</td>\n",
       "    </tr>\n",
       "    <tr>\n",
       "      <th>62092</th>\n",
       "      <td>2014-09-30</td>\n",
       "      <td>2014-09-30</td>\n",
       "      <td>NaT</td>\n",
       "      <td>NaN</td>\n",
       "      <td>NaN</td>\n",
       "      <td>basic</td>\n",
       "      <td>23</td>\n",
       "      <td>ko</td>\n",
       "      <td>direct</td>\n",
       "      <td>direct</td>\n",
       "      <td>untracked</td>\n",
       "      <td>Android</td>\n",
       "      <td>Android Phone</td>\n",
       "      <td>-unknown-</td>\n",
       "      <td>zp8xfonng8</td>\n",
       "      <td>2014</td>\n",
       "      <td>9</td>\n",
       "      <td>30</td>\n",
       "      <td>2014</td>\n",
       "      <td>9</td>\n",
       "      <td>30</td>\n",
       "      <td>NaN</td>\n",
       "      <td>NaN</td>\n",
       "      <td>NaN</td>\n",
       "      <td>NaN</td>\n",
       "      <td>1</td>\n",
       "      <td>1</td>\n",
       "    </tr>\n",
       "    <tr>\n",
       "      <th>62093</th>\n",
       "      <td>2014-09-30</td>\n",
       "      <td>2014-09-30</td>\n",
       "      <td>NaT</td>\n",
       "      <td>NaN</td>\n",
       "      <td>NaN</td>\n",
       "      <td>basic</td>\n",
       "      <td>0</td>\n",
       "      <td>de</td>\n",
       "      <td>direct</td>\n",
       "      <td>direct</td>\n",
       "      <td>linked</td>\n",
       "      <td>Web</td>\n",
       "      <td>Windows Desktop</td>\n",
       "      <td>Firefox</td>\n",
       "      <td>fa6260ziny</td>\n",
       "      <td>2014</td>\n",
       "      <td>9</td>\n",
       "      <td>30</td>\n",
       "      <td>2014</td>\n",
       "      <td>9</td>\n",
       "      <td>30</td>\n",
       "      <td>NaN</td>\n",
       "      <td>NaN</td>\n",
       "      <td>NaN</td>\n",
       "      <td>NaN</td>\n",
       "      <td>1</td>\n",
       "      <td>1</td>\n",
       "    </tr>\n",
       "    <tr>\n",
       "      <th>62094</th>\n",
       "      <td>2014-09-30</td>\n",
       "      <td>2014-09-30</td>\n",
       "      <td>NaT</td>\n",
       "      <td>NaN</td>\n",
       "      <td>NaN</td>\n",
       "      <td>basic</td>\n",
       "      <td>0</td>\n",
       "      <td>en</td>\n",
       "      <td>sem-brand</td>\n",
       "      <td>google</td>\n",
       "      <td>omg</td>\n",
       "      <td>Web</td>\n",
       "      <td>Mac Desktop</td>\n",
       "      <td>Safari</td>\n",
       "      <td>87k0fy4ugm</td>\n",
       "      <td>2014</td>\n",
       "      <td>9</td>\n",
       "      <td>30</td>\n",
       "      <td>2014</td>\n",
       "      <td>9</td>\n",
       "      <td>30</td>\n",
       "      <td>NaN</td>\n",
       "      <td>NaN</td>\n",
       "      <td>NaN</td>\n",
       "      <td>NaN</td>\n",
       "      <td>1</td>\n",
       "      <td>1</td>\n",
       "    </tr>\n",
       "    <tr>\n",
       "      <th>62095</th>\n",
       "      <td>2014-09-30</td>\n",
       "      <td>2014-09-30</td>\n",
       "      <td>NaT</td>\n",
       "      <td>FEMALE</td>\n",
       "      <td>49.0</td>\n",
       "      <td>basic</td>\n",
       "      <td>0</td>\n",
       "      <td>en</td>\n",
       "      <td>other</td>\n",
       "      <td>other</td>\n",
       "      <td>tracked-other</td>\n",
       "      <td>Web</td>\n",
       "      <td>Windows Desktop</td>\n",
       "      <td>Chrome</td>\n",
       "      <td>9uqfg8txu3</td>\n",
       "      <td>2014</td>\n",
       "      <td>9</td>\n",
       "      <td>30</td>\n",
       "      <td>2014</td>\n",
       "      <td>9</td>\n",
       "      <td>30</td>\n",
       "      <td>NaN</td>\n",
       "      <td>NaN</td>\n",
       "      <td>NaN</td>\n",
       "      <td>NaN</td>\n",
       "      <td>1</td>\n",
       "      <td>1</td>\n",
       "    </tr>\n",
       "  </tbody>\n",
       "</table>\n",
       "<p>275547 rows × 27 columns</p>\n",
       "</div>"
      ],
      "text/plain": [
       "      date_account_created timestamp_first_active date_first_booking  gender  \\\n",
       "0               2010-06-28             2009-03-19                NaT     NaN   \n",
       "1               2011-05-25             2009-05-23                NaT    MALE   \n",
       "2               2010-09-28             2009-06-09         2010-08-02  FEMALE   \n",
       "3               2011-12-05             2009-10-31         2012-09-08  FEMALE   \n",
       "4               2010-09-14             2009-12-08         2010-02-18     NaN   \n",
       "...                    ...                    ...                ...     ...   \n",
       "62091           2014-09-30             2014-09-30                NaT     NaN   \n",
       "62092           2014-09-30             2014-09-30                NaT     NaN   \n",
       "62093           2014-09-30             2014-09-30                NaT     NaN   \n",
       "62094           2014-09-30             2014-09-30                NaT     NaN   \n",
       "62095           2014-09-30             2014-09-30                NaT  FEMALE   \n",
       "\n",
       "        age signup_method  signup_flow language affiliate_channel  \\\n",
       "0       NaN      facebook            0       en            direct   \n",
       "1      38.0      facebook            0       en               seo   \n",
       "2      56.0         basic            3       en            direct   \n",
       "3      42.0      facebook            0       en            direct   \n",
       "4      41.0         basic            0       en            direct   \n",
       "...     ...           ...          ...      ...               ...   \n",
       "62091  31.0         basic            0       en            direct   \n",
       "62092   NaN         basic           23       ko            direct   \n",
       "62093   NaN         basic            0       de            direct   \n",
       "62094   NaN         basic            0       en         sem-brand   \n",
       "62095  49.0         basic            0       en             other   \n",
       "\n",
       "      affiliate_provider first_affiliate_tracked signup_app first_device_type  \\\n",
       "0                 direct               untracked        Web       Mac Desktop   \n",
       "1                 google               untracked        Web       Mac Desktop   \n",
       "2                 direct               untracked        Web   Windows Desktop   \n",
       "3                 direct               untracked        Web       Mac Desktop   \n",
       "4                 direct               untracked        Web       Mac Desktop   \n",
       "...                  ...                     ...        ...               ...   \n",
       "62091             direct               untracked        Web   Windows Desktop   \n",
       "62092             direct               untracked    Android     Android Phone   \n",
       "62093             direct                  linked        Web   Windows Desktop   \n",
       "62094             google                     omg        Web       Mac Desktop   \n",
       "62095              other           tracked-other        Web   Windows Desktop   \n",
       "\n",
       "      first_browser          id  year_acc  month_acc  day_acc  year_act  \\\n",
       "0            Chrome         NaN      2010          6       28      2009   \n",
       "1            Chrome         NaN      2011          5       25      2009   \n",
       "2                IE         NaN      2010          9       28      2009   \n",
       "3           Firefox         NaN      2011         12        5      2009   \n",
       "4            Chrome         NaN      2010          9       14      2009   \n",
       "...             ...         ...       ...        ...      ...       ...   \n",
       "62091            IE  cv0na2lf5a      2014          9       30      2014   \n",
       "62092     -unknown-  zp8xfonng8      2014          9       30      2014   \n",
       "62093       Firefox  fa6260ziny      2014          9       30      2014   \n",
       "62094        Safari  87k0fy4ugm      2014          9       30      2014   \n",
       "62095        Chrome  9uqfg8txu3      2014          9       30      2014   \n",
       "\n",
       "       month_act  day_act  year_fb  month_fb  day_fb  weekday_fb  weekday_acc  \\\n",
       "0              3       19      NaN       NaN     NaN         NaN            0   \n",
       "1              5       23      NaN       NaN     NaN         NaN            2   \n",
       "2              6        9   2010.0       8.0     2.0         0.0            1   \n",
       "3             10       31   2012.0       9.0     8.0         5.0            0   \n",
       "4             12        8   2010.0       2.0    18.0         3.0            1   \n",
       "...          ...      ...      ...       ...     ...         ...          ...   \n",
       "62091          9       30      NaN       NaN     NaN         NaN            1   \n",
       "62092          9       30      NaN       NaN     NaN         NaN            1   \n",
       "62093          9       30      NaN       NaN     NaN         NaN            1   \n",
       "62094          9       30      NaN       NaN     NaN         NaN            1   \n",
       "62095          9       30      NaN       NaN     NaN         NaN            1   \n",
       "\n",
       "       weekday_act  \n",
       "0                3  \n",
       "1                5  \n",
       "2                1  \n",
       "3                5  \n",
       "4                1  \n",
       "...            ...  \n",
       "62091            1  \n",
       "62092            1  \n",
       "62093            1  \n",
       "62094            1  \n",
       "62095            1  \n",
       "\n",
       "[275547 rows x 27 columns]"
      ]
     },
     "execution_count": 287,
     "metadata": {},
     "output_type": "execute_result"
    }
   ],
   "source": [
    "df"
   ]
  },
  {
   "cell_type": "code",
   "execution_count": 265,
   "metadata": {},
   "outputs": [],
   "source": [
    "df_age = df.loc[df.age.notnull()]"
   ]
  },
  {
   "cell_type": "markdown",
   "metadata": {},
   "source": [
    "Check if being within a certain age group means you're more likely to go abroad somewhere else"
   ]
  },
  {
   "cell_type": "code",
   "execution_count": 266,
   "metadata": {},
   "outputs": [],
   "source": [
    "train = pd.read_csv('airbnb-recruiting-new-user-bookings/train_users_2.csv')\n",
    "train_age = train.loc[train.age.notnull()]"
   ]
  },
  {
   "cell_type": "code",
   "execution_count": 267,
   "metadata": {},
   "outputs": [],
   "source": [
    "train_age.loc[(train_age.age >= 18) & (train_age.age < 36), 'age_group'] = '18-36'\n",
    "train_age.loc[(train_age.age >= 36) & (train_age.age < 54), 'age_group'] = '36-54'\n",
    "train_age.loc[(train_age.age >= 54) & (train_age.age < 72), 'age_group'] = '54-72'\n",
    "train_age.loc[(train_age.age >= 72) & (train_age.age < 90), 'age_group'] = '72-90'"
   ]
  },
  {
   "cell_type": "code",
   "execution_count": 268,
   "metadata": {},
   "outputs": [
    {
     "data": {
      "text/plain": [
       "NDF      18667\n",
       "US       14569\n",
       "other     2286\n",
       "FR        1235\n",
       "IT         614\n",
       "GB         568\n",
       "ES         466\n",
       "CA         372\n",
       "DE         258\n",
       "NL         169\n",
       "AU         157\n",
       "PT          40\n",
       "Name: country_destination, dtype: int64"
      ]
     },
     "execution_count": 268,
     "metadata": {},
     "output_type": "execute_result"
    }
   ],
   "source": [
    "train_age.loc[train_age['age_group']=='36-54']['country_destination'].value_counts()"
   ]
  },
  {
   "cell_type": "markdown",
   "metadata": {},
   "source": [
    "### Seeing distribution of destination according to age group"
   ]
  },
  {
   "cell_type": "code",
   "execution_count": 269,
   "metadata": {},
   "outputs": [
    {
     "data": {
      "text/plain": [
       "<matplotlib.axes._subplots.AxesSubplot at 0x15fa13278>"
      ]
     },
     "execution_count": 269,
     "metadata": {},
     "output_type": "execute_result"
    },
    {
     "data": {
      "image/png": "[encoded data removed]",
      "text/plain": [
       "<Figure size 432x288 with 1 Axes>"
      ]
     },
     "metadata": {
      "needs_background": "light"
     },
     "output_type": "display_data"
    }
   ],
   "source": [
    "sns.countplot(train_age.loc[train_age['age_group']=='18-36']['country_destination'])"
   ]
  },
  {
   "cell_type": "code",
   "execution_count": 270,
   "metadata": {},
   "outputs": [
    {
     "data": {
      "text/plain": [
       "<matplotlib.axes._subplots.AxesSubplot at 0x134569588>"
      ]
     },
     "execution_count": 270,
     "metadata": {},
     "output_type": "execute_result"
    },
    {
     "data": {
      "image/png": "[encoded data removed]",
      "text/plain": [
       "<Figure size 432x288 with 1 Axes>"
      ]
     },
     "metadata": {
      "needs_background": "light"
     },
     "output_type": "display_data"
    }
   ],
   "source": [
    "sns.countplot(train_age.loc[train_age['age_group']=='36-54']['country_destination'])"
   ]
  },
  {
   "cell_type": "code",
   "execution_count": 271,
   "metadata": {},
   "outputs": [
    {
     "data": {
      "text/plain": [
       "<matplotlib.axes._subplots.AxesSubplot at 0x1320d4320>"
      ]
     },
     "execution_count": 271,
     "metadata": {},
     "output_type": "execute_result"
    },
    {
     "data": {
      "image/png": "[encoded data removed]",
      "text/plain": [
       "<Figure size 432x288 with 1 Axes>"
      ]
     },
     "metadata": {
      "needs_background": "light"
     },
     "output_type": "display_data"
    }
   ],
   "source": [
    "sns.countplot(train_age.loc[train_age['age_group']=='54-72']['country_destination'])"
   ]
  },
  {
   "cell_type": "code",
   "execution_count": 272,
   "metadata": {},
   "outputs": [
    {
     "data": {
      "text/plain": [
       "<matplotlib.axes._subplots.AxesSubplot at 0x131028be0>"
      ]
     },
     "execution_count": 272,
     "metadata": {},
     "output_type": "execute_result"
    },
    {
     "data": {
      "image/png": "[encoded data removed]",
      "text/plain": [
       "<Figure size 432x288 with 1 Axes>"
      ]
     },
     "metadata": {
      "needs_background": "light"
     },
     "output_type": "display_data"
    }
   ],
   "source": [
    "sns.countplot(train_age.loc[train_age['age_group']=='72-90']['country_destination'])"
   ]
  },
  {
   "cell_type": "code",
   "execution_count": 273,
   "metadata": {},
   "outputs": [
    {
     "data": {
      "text/plain": [
       "array([18. , 22.5, 27. , 31.5, 36. ])"
      ]
     },
     "execution_count": 273,
     "metadata": {},
     "output_type": "execute_result"
    }
   ],
   "source": [
    "np.linspace(18,36,5)"
   ]
  },
  {
   "cell_type": "code",
   "execution_count": 274,
   "metadata": {},
   "outputs": [
    {
     "data": {
      "text/plain": [
       "<matplotlib.axes._subplots.AxesSubplot at 0x13394a588>"
      ]
     },
     "execution_count": 274,
     "metadata": {},
     "output_type": "execute_result"
    },
    {
     "data": {
      "image/png": "[encoded data removed]",
      "text/plain": [
       "<Figure size 432x288 with 1 Axes>"
      ]
     },
     "metadata": {
      "needs_background": "light"
     },
     "output_type": "display_data"
    }
   ],
   "source": [
    "sns.countplot(train.loc[train['gender']=='MALE']['country_destination'])"
   ]
  },
  {
   "cell_type": "code",
   "execution_count": 275,
   "metadata": {},
   "outputs": [
    {
     "data": {
      "text/plain": [
       "<matplotlib.axes._subplots.AxesSubplot at 0x133be7080>"
      ]
     },
     "execution_count": 275,
     "metadata": {},
     "output_type": "execute_result"
    },
    {
     "data": {
      "image/png": "[encoded data removed]",
      "text/plain": [
       "<Figure size 432x288 with 1 Axes>"
      ]
     },
     "metadata": {
      "needs_background": "light"
     },
     "output_type": "display_data"
    }
   ],
   "source": [
    "sns.countplot(train.loc[train['gender']=='FEMALE']['country_destination'])"
   ]
  },
  {
   "cell_type": "code",
   "execution_count": 276,
   "metadata": {},
   "outputs": [
    {
     "data": {
      "text/plain": [
       "NDF      26719\n",
       "US       19457\n",
       "other     3443\n",
       "FR        1335\n",
       "IT         699\n",
       "GB         682\n",
       "ES         677\n",
       "CA         477\n",
       "DE         416\n",
       "NL         278\n",
       "AU         188\n",
       "PT          69\n",
       "Name: country_destination, dtype: int64"
      ]
     },
     "execution_count": 276,
     "metadata": {},
     "output_type": "execute_result"
    }
   ],
   "source": [
    "train.loc[train['gender']=='MALE']['country_destination'].value_counts()"
   ]
  },
  {
   "cell_type": "code",
   "execution_count": 277,
   "metadata": {},
   "outputs": [
    {
     "data": {
      "text/plain": [
       "Text(0.5, 0, 'Destination Country')"
      ]
     },
     "execution_count": 277,
     "metadata": {},
     "output_type": "execute_result"
    },
    {
     "data": {
      "image/png": "[encoded data removed]",
      "text/plain": [
       "<Figure size 432x288 with 1 Axes>"
      ]
     },
     "metadata": {
      "needs_background": "light"
     },
     "output_type": "display_data"
    }
   ],
   "source": [
    "sns.countplot(x=\"country_destination\", data=train, order=list(train['country_destination'].value_counts().keys()))\n",
    "plt.xlabel('Destination Country')"
   ]
  },
  {
   "cell_type": "code",
   "execution_count": 278,
   "metadata": {},
   "outputs": [
    {
     "data": {
      "text/plain": [
       "en           96.367589\n",
       "zh            0.955917\n",
       "fr            0.547275\n",
       "es            0.426062\n",
       "ko            0.405013\n",
       "de            0.354567\n",
       "it            0.229725\n",
       "ru            0.184361\n",
       "ja            0.125206\n",
       "pt            0.116858\n",
       "sv            0.063873\n",
       "nl            0.048631\n",
       "tr            0.033388\n",
       "da            0.027219\n",
       "pl            0.027219\n",
       "no            0.018509\n",
       "cs            0.017783\n",
       "el            0.010887\n",
       "th            0.010162\n",
       "hu            0.009073\n",
       "id            0.008347\n",
       "fi            0.007258\n",
       "ca            0.002177\n",
       "is            0.001815\n",
       "hr            0.000726\n",
       "-unknown-     0.000363\n",
       "Name: language, dtype: float64"
      ]
     },
     "execution_count": 278,
     "metadata": {},
     "output_type": "execute_result"
    }
   ],
   "source": [
    "(df.language.value_counts()/df.shape[0])*100"
   ]
  },
  {
   "cell_type": "code",
   "execution_count": 279,
   "metadata": {},
   "outputs": [
    {
     "data": {
      "image/png": "[encoded data removed]",
      "text/plain": [
       "<Figure size 2160x360 with 3 Axes>"
      ]
     },
     "metadata": {
      "needs_background": "light"
     },
     "output_type": "display_data"
    }
   ],
   "source": [
    "plt.figure(figsize=(30,5))\n",
    "plt.subplot(1,3,1)\n",
    "sns.countplot(df['day_fb'])\n",
    "plt.xticks(rotation=90)\n",
    "plt.subplot(1,3,2)\n",
    "sns.countplot(df['month_fb'])\n",
    "plt.subplot(1,3,3)\n",
    "sns.countplot(df['year_fb'])\n",
    "plt.show()"
   ]
  },
  {
   "cell_type": "code",
   "execution_count": 288,
   "metadata": {},
   "outputs": [
    {
     "data": {
      "image/png": "[encoded data removed]",
      "text/plain": [
       "<Figure size 2160x360 with 3 Axes>"
      ]
     },
     "metadata": {
      "needs_background": "light"
     },
     "output_type": "display_data"
    }
   ],
   "source": [
    "plt.figure(figsize=(30,5))\n",
    "sb1 = plt.subplot(1,3,1)\n",
    "sb1.title.set_text('first booking weekday')\n",
    "sns.countplot(df['weekday_fb'])\n",
    "sb2 = plt.subplot(1,3,2)\n",
    "sb2.title.set_text('account created weekday')\n",
    "sns.countplot(df['weekday_acc'])\n",
    "sb3 = plt.subplot(1,3,3)\n",
    "sb3.title.set_text('first active weekday')\n",
    "sns.countplot(df['weekday_act'])\n",
    "plt.show()"
   ]
  },
  {
   "cell_type": "markdown",
   "metadata": {},
   "source": [
    "cyclic encoding of dates/years/days etc"
   ]
  },
  {
   "cell_type": "markdown",
   "metadata": {},
   "source": [
    "then model w lightgbm"
   ]
  },
  {
   "cell_type": "code",
   "execution_count": 297,
   "metadata": {},
   "outputs": [
    {
     "name": "stdout",
     "output_type": "stream",
     "text": [
      "                      index          dtypes                     Name  Missing  \\\n",
      "0      date_account_created  datetime64[ns]     date_account_created        0   \n",
      "1    timestamp_first_active  datetime64[ns]   timestamp_first_active        0   \n",
      "2        date_first_booking  datetime64[ns]       date_first_booking   186639   \n",
      "3                    gender          object                   gender   129480   \n",
      "4                       age         float64                      age   119862   \n",
      "5             signup_method          object            signup_method        0   \n",
      "6               signup_flow           int64              signup_flow        0   \n",
      "7                  language          object                 language        0   \n",
      "8         affiliate_channel          object        affiliate_channel        0   \n",
      "9        affiliate_provider          object       affiliate_provider        0   \n",
      "10  first_affiliate_tracked          object  first_affiliate_tracked     6085   \n",
      "11               signup_app          object               signup_app        0   \n",
      "12        first_device_type          object        first_device_type        0   \n",
      "13            first_browser          object            first_browser        0   \n",
      "14                       id          object                       id   213451   \n",
      "15                 year_acc           int64                 year_acc        0   \n",
      "16                month_acc           int64                month_acc        0   \n",
      "17                  day_acc           int64                  day_acc        0   \n",
      "18                 year_act           int64                 year_act        0   \n",
      "19                month_act           int64                month_act        0   \n",
      "20                  day_act           int64                  day_act        0   \n",
      "21                  year_fb         float64                  year_fb   186639   \n",
      "22                 month_fb         float64                 month_fb   186639   \n",
      "23                   day_fb         float64                   day_fb   186639   \n",
      "24               weekday_fb         float64               weekday_fb   186639   \n",
      "25              weekday_acc           int64              weekday_acc        0   \n",
      "26              weekday_act           int64              weekday_act        0   \n",
      "\n",
      "     Total    MissPerc  NumUnique  \\\n",
      "0   275547    0.000000       1726   \n",
      "1   275547    0.000000       1731   \n",
      "2    88908  209.923741       1976   \n",
      "3   146067   88.644252          3   \n",
      "4   155685   76.990076         75   \n",
      "5   275547    0.000000          4   \n",
      "6   275547    0.000000         18   \n",
      "7   275547    0.000000         26   \n",
      "8   275547    0.000000          8   \n",
      "9   275547    0.000000         18   \n",
      "10  269462    2.258203          7   \n",
      "11  275547    0.000000          4   \n",
      "12  275547    0.000000          9   \n",
      "13  275547    0.000000         55   \n",
      "14   62096  343.743558      62096   \n",
      "15  275547    0.000000          5   \n",
      "16  275547    0.000000         12   \n",
      "17  275547    0.000000         31   \n",
      "18  275547    0.000000          6   \n",
      "19  275547    0.000000         12   \n",
      "20  275547    0.000000         31   \n",
      "21   88908  209.923741          6   \n",
      "22   88908  209.923741         12   \n",
      "23   88908  209.923741         31   \n",
      "24   88908  209.923741          7   \n",
      "25  275547    0.000000          7   \n",
      "26  275547    0.000000          7   \n",
      "\n",
      "                                           UniqueVals  \n",
      "0   [2010-06-28T00:00:00.000000000, 2011-05-25T00:...  \n",
      "1   [2009-03-19T00:00:00.000000000, 2009-05-23T00:...  \n",
      "2   [NaT, 2010-08-02T00:00:00.000000000, 2012-09-0...  \n",
      "3                          [nan, MALE, FEMALE, OTHER]  \n",
      "4   [nan, 38.0, 56.0, 42.0, 41.0, 46.0, 47.0, 50.0...  \n",
      "5                    [facebook, basic, google, weibo]  \n",
      "6   [0, 3, 2, 1, 24, 8, 6, 5, 10, 25, 12, 4, 16, 1...  \n",
      "7   [en, fr, de, es, it, pt, zh, ko, ja, ru, pl, e...  \n",
      "8   [direct, seo, other, sem-non-brand, content, s...  \n",
      "9   [direct, google, other, craigslist, facebook, ...  \n",
      "10  [untracked, omg, nan, linked, tracked-other, p...  \n",
      "11                         [Web, Moweb, iOS, Android]  \n",
      "12  [Mac Desktop, Windows Desktop, iPhone, Other/U...  \n",
      "13  [Chrome, IE, Firefox, Safari, -unknown-, Mobil...  \n",
      "14  [nan, 5uwns89zht, jtl0dijy2j, xx0ulgorjt, 6c6p...  \n",
      "15                     [2010, 2011, 2014, 2012, 2013]  \n",
      "16            [6, 5, 9, 12, 1, 2, 3, 4, 11, 7, 8, 10]  \n",
      "17  [28, 25, 5, 14, 1, 2, 3, 4, 7, 8, 10, 11, 12, ...  \n",
      "18               [2009, 2010, 2011, 2012, 2013, 2014]  \n",
      "19            [3, 5, 6, 10, 12, 1, 2, 4, 7, 8, 9, 11]  \n",
      "20  [19, 23, 9, 31, 8, 1, 2, 3, 4, 5, 7, 10, 11, 1...  \n",
      "21  [nan, 2010.0, 2012.0, 2011.0, 2014.0, 2013.0, ...  \n",
      "22  [nan, 8.0, 9.0, 2.0, 1.0, 7.0, 12.0, 3.0, 6.0,...  \n",
      "23  [nan, 2.0, 8.0, 18.0, 5.0, 13.0, 29.0, 4.0, 6....  \n",
      "24           [nan, 0.0, 5.0, 3.0, 1.0, 2.0, 4.0, 6.0]  \n",
      "25                              [0, 2, 1, 4, 5, 6, 3]  \n",
      "26                              [3, 5, 1, 4, 6, 0, 2]  \n"
     ]
    }
   ],
   "source": [
    "explore(df)"
   ]
  },
  {
   "cell_type": "code",
   "execution_count": null,
   "metadata": {},
   "outputs": [],
   "source": [
    "def encodeCyclic(data):\n",
    "    data['day_sin'] = np.sin(data.day * (2. * np.pi / 24))\n",
    "    data['day_cos'] = np.cos(data.day * (2. * np.pi / 24))\n",
    "    data['month_sin'] = np.sin((data.month - 1) * (2. * np.pi / 12))\n",
    "    data['month_cos'] = np.cos((data.month - 1) * (2. * np.pi / 12))\n",
    "    return data.drop(['day', 'month'], axis=1)"
   ]
  }
 ],
 "metadata": {
  "kernelspec": {
   "display_name": "Python 3",
   "language": "python",
   "name": "python3"
  },
  "language_info": {
   "codemirror_mode": {
    "name": "ipython",
    "version": 3
   },
   "file_extension": ".py",
   "mimetype": "text/x-python",
   "name": "python",
   "nbconvert_exporter": "python",
   "pygments_lexer": "ipython3",
   "version": "3.7.3"
  }
 },
 "nbformat": 4,
 "nbformat_minor": 4
}
