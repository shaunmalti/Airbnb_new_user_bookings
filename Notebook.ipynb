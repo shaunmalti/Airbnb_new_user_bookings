{
 "cells": [
  {
   "cell_type": "code",
   "execution_count": 789,
   "metadata": {},
   "outputs": [],
   "source": [
    "import pandas as pd\n",
    "pd.set_option('display.max_columns', 50)\n",
    "pd.set_option('display.max_rows', 50)\n",
    "import numpy as np\n",
    "import seaborn as sns\n",
    "import matplotlib.pyplot as plt"
   ]
  },
  {
   "cell_type": "code",
   "execution_count": 790,
   "metadata": {},
   "outputs": [],
   "source": [
    "train = pd.read_csv('airbnb-recruiting-new-user-bookings/train_users_2.csv')\n",
    "test = pd.read_csv('airbnb-recruiting-new-user-bookings/test_users.csv')"
   ]
  },
  {
   "cell_type": "code",
   "execution_count": 791,
   "metadata": {},
   "outputs": [
    {
     "name": "stdout",
     "output_type": "stream",
     "text": [
      "(62096, 15)\n",
      "(213451, 16)\n"
     ]
    }
   ],
   "source": [
    "print(test.shape)\n",
    "print(train.shape)"
   ]
  },
  {
   "cell_type": "code",
   "execution_count": 792,
   "metadata": {},
   "outputs": [
    {
     "name": "stdout",
     "output_type": "stream",
     "text": [
      "Index(['id', 'date_account_created', 'timestamp_first_active',\n",
      "       'date_first_booking', 'gender', 'age', 'signup_method', 'signup_flow',\n",
      "       'language', 'affiliate_channel', 'affiliate_provider',\n",
      "       'first_affiliate_tracked', 'signup_app', 'first_device_type',\n",
      "       'first_browser'],\n",
      "      dtype='object')\n",
      "Index(['id', 'date_account_created', 'timestamp_first_active',\n",
      "       'date_first_booking', 'gender', 'age', 'signup_method', 'signup_flow',\n",
      "       'language', 'affiliate_channel', 'affiliate_provider',\n",
      "       'first_affiliate_tracked', 'signup_app', 'first_device_type',\n",
      "       'first_browser', 'country_destination'],\n",
      "      dtype='object')\n"
     ]
    }
   ],
   "source": [
    "print(test.columns)\n",
    "print(train.columns)"
   ]
  },
  {
   "cell_type": "code",
   "execution_count": 793,
   "metadata": {},
   "outputs": [],
   "source": [
    "test_id = test['id']\n",
    "test.drop(['id'], inplace=True, axis=1)"
   ]
  },
  {
   "cell_type": "code",
   "execution_count": 794,
   "metadata": {},
   "outputs": [],
   "source": [
    "train_y = train['country_destination']\n",
    "train.drop(['country_destination', 'id'], axis=1, inplace=True)"
   ]
  },
  {
   "cell_type": "code",
   "execution_count": 795,
   "metadata": {},
   "outputs": [],
   "source": [
    "train_len = train.shape[0]\n",
    "test_len = test.shape[0]"
   ]
  },
  {
   "cell_type": "code",
   "execution_count": 796,
   "metadata": {},
   "outputs": [],
   "source": [
    "df = pd.concat([train, test], sort=False)"
   ]
  },
  {
   "cell_type": "code",
   "execution_count": 797,
   "metadata": {},
   "outputs": [],
   "source": [
    "def explore(data):\n",
    "    summaryDf = pd.DataFrame(data.dtypes, columns=['dtypes'])\n",
    "    summaryDf = summaryDf.reset_index()\n",
    "    summaryDf['Name'] = summaryDf['index']\n",
    "    summaryDf['Missing'] = data.isnull().sum().values\n",
    "    summaryDf['Total'] = data.count().values\n",
    "    summaryDf['MissPerc'] = (summaryDf['Missing']/data.shape[0])*100\n",
    "    summaryDf['NumUnique'] = data.nunique().values\n",
    "    summaryDf['UniqueVals'] = [data[col].unique() for col in data.columns]\n",
    "    print(summaryDf.head(50))"
   ]
  },
  {
   "cell_type": "code",
   "execution_count": 798,
   "metadata": {},
   "outputs": [],
   "source": [
    "# df.drop('date_first_booking', axis=1, inplace=True)"
   ]
  },
  {
   "cell_type": "code",
   "execution_count": 799,
   "metadata": {},
   "outputs": [
    {
     "name": "stdout",
     "output_type": "stream",
     "text": [
      "                      index   dtypes                     Name  Missing  \\\n",
      "0      date_account_created   object     date_account_created        0   \n",
      "1    timestamp_first_active    int64   timestamp_first_active        0   \n",
      "2        date_first_booking   object       date_first_booking   186639   \n",
      "3                    gender   object                   gender        0   \n",
      "4                       age  float64                      age   116866   \n",
      "5             signup_method   object            signup_method        0   \n",
      "6               signup_flow    int64              signup_flow        0   \n",
      "7                  language   object                 language        0   \n",
      "8         affiliate_channel   object        affiliate_channel        0   \n",
      "9        affiliate_provider   object       affiliate_provider        0   \n",
      "10  first_affiliate_tracked   object  first_affiliate_tracked     6085   \n",
      "11               signup_app   object               signup_app        0   \n",
      "12        first_device_type   object        first_device_type        0   \n",
      "13            first_browser   object            first_browser        0   \n",
      "\n",
      "     Total   MissPerc  NumUnique  \\\n",
      "0   275547   0.000000       1726   \n",
      "1   275547   0.000000     275547   \n",
      "2    88908  67.733998       1976   \n",
      "3   275547   0.000000          4   \n",
      "4   158681  42.412365        145   \n",
      "5   275547   0.000000          4   \n",
      "6   275547   0.000000         18   \n",
      "7   275547   0.000000         26   \n",
      "8   275547   0.000000          8   \n",
      "9   275547   0.000000         18   \n",
      "10  269462   2.208335          7   \n",
      "11  275547   0.000000          4   \n",
      "12  275547   0.000000          9   \n",
      "13  275547   0.000000         55   \n",
      "\n",
      "                                           UniqueVals  \n",
      "0   [2010-06-28, 2011-05-25, 2010-09-28, 2011-12-0...  \n",
      "1   [20090319043255, 20090523174809, 2009060923124...  \n",
      "2   [nan, 2010-08-02, 2012-09-08, 2010-02-18, 2010...  \n",
      "3                    [-unknown-, MALE, FEMALE, OTHER]  \n",
      "4   [nan, 38.0, 56.0, 42.0, 41.0, 46.0, 47.0, 50.0...  \n",
      "5                    [facebook, basic, google, weibo]  \n",
      "6   [0, 3, 2, 1, 24, 8, 6, 5, 10, 25, 12, 4, 16, 1...  \n",
      "7   [en, fr, de, es, it, pt, zh, ko, ja, ru, pl, e...  \n",
      "8   [direct, seo, other, sem-non-brand, content, s...  \n",
      "9   [direct, google, other, craigslist, facebook, ...  \n",
      "10  [untracked, omg, nan, linked, tracked-other, p...  \n",
      "11                         [Web, Moweb, iOS, Android]  \n",
      "12  [Mac Desktop, Windows Desktop, iPhone, Other/U...  \n",
      "13  [Chrome, IE, Firefox, Safari, -unknown-, Mobil...  \n"
     ]
    }
   ],
   "source": [
    "explore(df)"
   ]
  },
  {
   "cell_type": "markdown",
   "metadata": {},
   "source": [
    "# Data Exploration"
   ]
  },
  {
   "cell_type": "code",
   "execution_count": 800,
   "metadata": {},
   "outputs": [
    {
     "data": {
      "text/plain": [
       "count    158681.000000\n",
       "mean         47.145310\n",
       "std         142.629468\n",
       "min           1.000000\n",
       "25%          28.000000\n",
       "50%          33.000000\n",
       "75%          42.000000\n",
       "max        2014.000000\n",
       "Name: age, dtype: float64"
      ]
     },
     "execution_count": 800,
     "metadata": {},
     "output_type": "execute_result"
    }
   ],
   "source": [
    "df.age.describe()"
   ]
  },
  {
   "cell_type": "code",
   "execution_count": 801,
   "metadata": {},
   "outputs": [],
   "source": [
    "df.loc[(df['age'] < 16) | (df['age'] > 90), 'age'] = np.nan"
   ]
  },
  {
   "cell_type": "code",
   "execution_count": 802,
   "metadata": {},
   "outputs": [],
   "source": [
    "df['date_account_created'] = pd.to_datetime(df['date_account_created'])\n",
    "df['date_first_booking'] = pd.to_datetime(df['date_first_booking'])\n",
    "df['timestamp_first_active'] = pd.to_datetime(df['timestamp_first_active']/1000000, format='%Y%m%d')"
   ]
  },
  {
   "cell_type": "code",
   "execution_count": 803,
   "metadata": {},
   "outputs": [],
   "source": [
    "df['year_acc'] = pd.DatetimeIndex(df['date_account_created']).year\n",
    "df['month_acc'] = pd.DatetimeIndex(df['date_account_created']).month\n",
    "df['day_acc'] = pd.DatetimeIndex(df['date_account_created']).day\n",
    "df['weekday_acc'] = pd.DatetimeIndex(df['date_account_created']).weekday\n",
    "df.drop(['date_account_created'], axis=1, inplace=True)"
   ]
  },
  {
   "cell_type": "code",
   "execution_count": 804,
   "metadata": {},
   "outputs": [],
   "source": [
    "df.loc[df['gender']=='-unknown-', 'gender'] = np.nan"
   ]
  },
  {
   "cell_type": "code",
   "execution_count": 805,
   "metadata": {},
   "outputs": [],
   "source": [
    "df['year_act'] = pd.DatetimeIndex(df['timestamp_first_active']).year\n",
    "df['month_act'] = pd.DatetimeIndex(df['timestamp_first_active']).month\n",
    "df['day_act'] = pd.DatetimeIndex(df['timestamp_first_active']).day\n",
    "df['weekday_act'] = pd.DatetimeIndex(df['timestamp_first_active']).weekday\n",
    "df.drop(['timestamp_first_active'], axis=1, inplace=True)"
   ]
  },
  {
   "cell_type": "markdown",
   "metadata": {},
   "source": [
    "Set those that are NAT to an arbitrary value."
   ]
  },
  {
   "cell_type": "code",
   "execution_count": 806,
   "metadata": {},
   "outputs": [
    {
     "data": {
      "text/html": [
       "<div>\n",
       "<style scoped>\n",
       "    .dataframe tbody tr th:only-of-type {\n",
       "        vertical-align: middle;\n",
       "    }\n",
       "\n",
       "    .dataframe tbody tr th {\n",
       "        vertical-align: top;\n",
       "    }\n",
       "\n",
       "    .dataframe thead th {\n",
       "        text-align: right;\n",
       "    }\n",
       "</style>\n",
       "<table border=\"1\" class=\"dataframe\">\n",
       "  <thead>\n",
       "    <tr style=\"text-align: right;\">\n",
       "      <th></th>\n",
       "      <th>date_first_booking</th>\n",
       "      <th>gender</th>\n",
       "      <th>age</th>\n",
       "      <th>signup_method</th>\n",
       "      <th>signup_flow</th>\n",
       "      <th>language</th>\n",
       "      <th>affiliate_channel</th>\n",
       "      <th>affiliate_provider</th>\n",
       "      <th>first_affiliate_tracked</th>\n",
       "      <th>signup_app</th>\n",
       "      <th>first_device_type</th>\n",
       "      <th>first_browser</th>\n",
       "      <th>year_acc</th>\n",
       "      <th>month_acc</th>\n",
       "      <th>day_acc</th>\n",
       "      <th>weekday_acc</th>\n",
       "      <th>year_act</th>\n",
       "      <th>month_act</th>\n",
       "      <th>day_act</th>\n",
       "      <th>weekday_act</th>\n",
       "    </tr>\n",
       "  </thead>\n",
       "  <tbody>\n",
       "    <tr>\n",
       "      <th>0</th>\n",
       "      <td>NaT</td>\n",
       "      <td>NaN</td>\n",
       "      <td>NaN</td>\n",
       "      <td>facebook</td>\n",
       "      <td>0</td>\n",
       "      <td>en</td>\n",
       "      <td>direct</td>\n",
       "      <td>direct</td>\n",
       "      <td>untracked</td>\n",
       "      <td>Web</td>\n",
       "      <td>Mac Desktop</td>\n",
       "      <td>Chrome</td>\n",
       "      <td>2010</td>\n",
       "      <td>6</td>\n",
       "      <td>28</td>\n",
       "      <td>0</td>\n",
       "      <td>2009</td>\n",
       "      <td>3</td>\n",
       "      <td>19</td>\n",
       "      <td>3</td>\n",
       "    </tr>\n",
       "    <tr>\n",
       "      <th>1</th>\n",
       "      <td>NaT</td>\n",
       "      <td>MALE</td>\n",
       "      <td>38.0</td>\n",
       "      <td>facebook</td>\n",
       "      <td>0</td>\n",
       "      <td>en</td>\n",
       "      <td>seo</td>\n",
       "      <td>google</td>\n",
       "      <td>untracked</td>\n",
       "      <td>Web</td>\n",
       "      <td>Mac Desktop</td>\n",
       "      <td>Chrome</td>\n",
       "      <td>2011</td>\n",
       "      <td>5</td>\n",
       "      <td>25</td>\n",
       "      <td>2</td>\n",
       "      <td>2009</td>\n",
       "      <td>5</td>\n",
       "      <td>23</td>\n",
       "      <td>5</td>\n",
       "    </tr>\n",
       "    <tr>\n",
       "      <th>2</th>\n",
       "      <td>2010-08-02</td>\n",
       "      <td>FEMALE</td>\n",
       "      <td>56.0</td>\n",
       "      <td>basic</td>\n",
       "      <td>3</td>\n",
       "      <td>en</td>\n",
       "      <td>direct</td>\n",
       "      <td>direct</td>\n",
       "      <td>untracked</td>\n",
       "      <td>Web</td>\n",
       "      <td>Windows Desktop</td>\n",
       "      <td>IE</td>\n",
       "      <td>2010</td>\n",
       "      <td>9</td>\n",
       "      <td>28</td>\n",
       "      <td>1</td>\n",
       "      <td>2009</td>\n",
       "      <td>6</td>\n",
       "      <td>9</td>\n",
       "      <td>1</td>\n",
       "    </tr>\n",
       "    <tr>\n",
       "      <th>3</th>\n",
       "      <td>2012-09-08</td>\n",
       "      <td>FEMALE</td>\n",
       "      <td>42.0</td>\n",
       "      <td>facebook</td>\n",
       "      <td>0</td>\n",
       "      <td>en</td>\n",
       "      <td>direct</td>\n",
       "      <td>direct</td>\n",
       "      <td>untracked</td>\n",
       "      <td>Web</td>\n",
       "      <td>Mac Desktop</td>\n",
       "      <td>Firefox</td>\n",
       "      <td>2011</td>\n",
       "      <td>12</td>\n",
       "      <td>5</td>\n",
       "      <td>0</td>\n",
       "      <td>2009</td>\n",
       "      <td>10</td>\n",
       "      <td>31</td>\n",
       "      <td>5</td>\n",
       "    </tr>\n",
       "    <tr>\n",
       "      <th>4</th>\n",
       "      <td>2010-02-18</td>\n",
       "      <td>NaN</td>\n",
       "      <td>41.0</td>\n",
       "      <td>basic</td>\n",
       "      <td>0</td>\n",
       "      <td>en</td>\n",
       "      <td>direct</td>\n",
       "      <td>direct</td>\n",
       "      <td>untracked</td>\n",
       "      <td>Web</td>\n",
       "      <td>Mac Desktop</td>\n",
       "      <td>Chrome</td>\n",
       "      <td>2010</td>\n",
       "      <td>9</td>\n",
       "      <td>14</td>\n",
       "      <td>1</td>\n",
       "      <td>2009</td>\n",
       "      <td>12</td>\n",
       "      <td>8</td>\n",
       "      <td>1</td>\n",
       "    </tr>\n",
       "    <tr>\n",
       "      <th>...</th>\n",
       "      <td>...</td>\n",
       "      <td>...</td>\n",
       "      <td>...</td>\n",
       "      <td>...</td>\n",
       "      <td>...</td>\n",
       "      <td>...</td>\n",
       "      <td>...</td>\n",
       "      <td>...</td>\n",
       "      <td>...</td>\n",
       "      <td>...</td>\n",
       "      <td>...</td>\n",
       "      <td>...</td>\n",
       "      <td>...</td>\n",
       "      <td>...</td>\n",
       "      <td>...</td>\n",
       "      <td>...</td>\n",
       "      <td>...</td>\n",
       "      <td>...</td>\n",
       "      <td>...</td>\n",
       "      <td>...</td>\n",
       "    </tr>\n",
       "    <tr>\n",
       "      <th>62091</th>\n",
       "      <td>NaT</td>\n",
       "      <td>NaN</td>\n",
       "      <td>31.0</td>\n",
       "      <td>basic</td>\n",
       "      <td>0</td>\n",
       "      <td>en</td>\n",
       "      <td>direct</td>\n",
       "      <td>direct</td>\n",
       "      <td>untracked</td>\n",
       "      <td>Web</td>\n",
       "      <td>Windows Desktop</td>\n",
       "      <td>IE</td>\n",
       "      <td>2014</td>\n",
       "      <td>9</td>\n",
       "      <td>30</td>\n",
       "      <td>1</td>\n",
       "      <td>2014</td>\n",
       "      <td>9</td>\n",
       "      <td>30</td>\n",
       "      <td>1</td>\n",
       "    </tr>\n",
       "    <tr>\n",
       "      <th>62092</th>\n",
       "      <td>NaT</td>\n",
       "      <td>NaN</td>\n",
       "      <td>NaN</td>\n",
       "      <td>basic</td>\n",
       "      <td>23</td>\n",
       "      <td>ko</td>\n",
       "      <td>direct</td>\n",
       "      <td>direct</td>\n",
       "      <td>untracked</td>\n",
       "      <td>Android</td>\n",
       "      <td>Android Phone</td>\n",
       "      <td>-unknown-</td>\n",
       "      <td>2014</td>\n",
       "      <td>9</td>\n",
       "      <td>30</td>\n",
       "      <td>1</td>\n",
       "      <td>2014</td>\n",
       "      <td>9</td>\n",
       "      <td>30</td>\n",
       "      <td>1</td>\n",
       "    </tr>\n",
       "    <tr>\n",
       "      <th>62093</th>\n",
       "      <td>NaT</td>\n",
       "      <td>NaN</td>\n",
       "      <td>NaN</td>\n",
       "      <td>basic</td>\n",
       "      <td>0</td>\n",
       "      <td>de</td>\n",
       "      <td>direct</td>\n",
       "      <td>direct</td>\n",
       "      <td>linked</td>\n",
       "      <td>Web</td>\n",
       "      <td>Windows Desktop</td>\n",
       "      <td>Firefox</td>\n",
       "      <td>2014</td>\n",
       "      <td>9</td>\n",
       "      <td>30</td>\n",
       "      <td>1</td>\n",
       "      <td>2014</td>\n",
       "      <td>9</td>\n",
       "      <td>30</td>\n",
       "      <td>1</td>\n",
       "    </tr>\n",
       "    <tr>\n",
       "      <th>62094</th>\n",
       "      <td>NaT</td>\n",
       "      <td>NaN</td>\n",
       "      <td>NaN</td>\n",
       "      <td>basic</td>\n",
       "      <td>0</td>\n",
       "      <td>en</td>\n",
       "      <td>sem-brand</td>\n",
       "      <td>google</td>\n",
       "      <td>omg</td>\n",
       "      <td>Web</td>\n",
       "      <td>Mac Desktop</td>\n",
       "      <td>Safari</td>\n",
       "      <td>2014</td>\n",
       "      <td>9</td>\n",
       "      <td>30</td>\n",
       "      <td>1</td>\n",
       "      <td>2014</td>\n",
       "      <td>9</td>\n",
       "      <td>30</td>\n",
       "      <td>1</td>\n",
       "    </tr>\n",
       "    <tr>\n",
       "      <th>62095</th>\n",
       "      <td>NaT</td>\n",
       "      <td>FEMALE</td>\n",
       "      <td>49.0</td>\n",
       "      <td>basic</td>\n",
       "      <td>0</td>\n",
       "      <td>en</td>\n",
       "      <td>other</td>\n",
       "      <td>other</td>\n",
       "      <td>tracked-other</td>\n",
       "      <td>Web</td>\n",
       "      <td>Windows Desktop</td>\n",
       "      <td>Chrome</td>\n",
       "      <td>2014</td>\n",
       "      <td>9</td>\n",
       "      <td>30</td>\n",
       "      <td>1</td>\n",
       "      <td>2014</td>\n",
       "      <td>9</td>\n",
       "      <td>30</td>\n",
       "      <td>1</td>\n",
       "    </tr>\n",
       "  </tbody>\n",
       "</table>\n",
       "<p>275547 rows × 20 columns</p>\n",
       "</div>"
      ],
      "text/plain": [
       "      date_first_booking  gender   age signup_method  signup_flow language  \\\n",
       "0                    NaT     NaN   NaN      facebook            0       en   \n",
       "1                    NaT    MALE  38.0      facebook            0       en   \n",
       "2             2010-08-02  FEMALE  56.0         basic            3       en   \n",
       "3             2012-09-08  FEMALE  42.0      facebook            0       en   \n",
       "4             2010-02-18     NaN  41.0         basic            0       en   \n",
       "...                  ...     ...   ...           ...          ...      ...   \n",
       "62091                NaT     NaN  31.0         basic            0       en   \n",
       "62092                NaT     NaN   NaN         basic           23       ko   \n",
       "62093                NaT     NaN   NaN         basic            0       de   \n",
       "62094                NaT     NaN   NaN         basic            0       en   \n",
       "62095                NaT  FEMALE  49.0         basic            0       en   \n",
       "\n",
       "      affiliate_channel affiliate_provider first_affiliate_tracked signup_app  \\\n",
       "0                direct             direct               untracked        Web   \n",
       "1                   seo             google               untracked        Web   \n",
       "2                direct             direct               untracked        Web   \n",
       "3                direct             direct               untracked        Web   \n",
       "4                direct             direct               untracked        Web   \n",
       "...                 ...                ...                     ...        ...   \n",
       "62091            direct             direct               untracked        Web   \n",
       "62092            direct             direct               untracked    Android   \n",
       "62093            direct             direct                  linked        Web   \n",
       "62094         sem-brand             google                     omg        Web   \n",
       "62095             other              other           tracked-other        Web   \n",
       "\n",
       "      first_device_type first_browser  year_acc  month_acc  day_acc  \\\n",
       "0           Mac Desktop        Chrome      2010          6       28   \n",
       "1           Mac Desktop        Chrome      2011          5       25   \n",
       "2       Windows Desktop            IE      2010          9       28   \n",
       "3           Mac Desktop       Firefox      2011         12        5   \n",
       "4           Mac Desktop        Chrome      2010          9       14   \n",
       "...                 ...           ...       ...        ...      ...   \n",
       "62091   Windows Desktop            IE      2014          9       30   \n",
       "62092     Android Phone     -unknown-      2014          9       30   \n",
       "62093   Windows Desktop       Firefox      2014          9       30   \n",
       "62094       Mac Desktop        Safari      2014          9       30   \n",
       "62095   Windows Desktop        Chrome      2014          9       30   \n",
       "\n",
       "       weekday_acc  year_act  month_act  day_act  weekday_act  \n",
       "0                0      2009          3       19            3  \n",
       "1                2      2009          5       23            5  \n",
       "2                1      2009          6        9            1  \n",
       "3                0      2009         10       31            5  \n",
       "4                1      2009         12        8            1  \n",
       "...            ...       ...        ...      ...          ...  \n",
       "62091            1      2014          9       30            1  \n",
       "62092            1      2014          9       30            1  \n",
       "62093            1      2014          9       30            1  \n",
       "62094            1      2014          9       30            1  \n",
       "62095            1      2014          9       30            1  \n",
       "\n",
       "[275547 rows x 20 columns]"
      ]
     },
     "execution_count": 806,
     "metadata": {},
     "output_type": "execute_result"
    }
   ],
   "source": [
    "df"
   ]
  },
  {
   "cell_type": "code",
   "execution_count": 807,
   "metadata": {},
   "outputs": [],
   "source": [
    "# df.loc[np.isnat(df['date_first_booking']), 'date_first_booking'] = '-1'\n",
    "# df['year_fb'] = df['date_first_booking'].apply(lambda x: 0 if type(x) is str else x.year)\n",
    "# df['month_fb'] = df['date_first_booking'].apply(lambda x: 0 if type(x) is str else (x.month + 1))\n",
    "# df['day_fb'] = df['date_first_booking'].apply(lambda x: 0 if type(x) is str else (x.day + 1))\n",
    "# df['weekday_fb'] = df['date_first_booking'].apply(lambda x: 0 if type(x) is str else (x.weekday() + 1))\n",
    "df.drop('date_first_booking', axis=1, inplace=True)"
   ]
  },
  {
   "cell_type": "code",
   "execution_count": 808,
   "metadata": {},
   "outputs": [],
   "source": [
    "df_age = df.loc[df.age.notnull()]"
   ]
  },
  {
   "cell_type": "markdown",
   "metadata": {},
   "source": [
    "Check if being within a certain age group means you're more likely to go abroad somewhere else"
   ]
  },
  {
   "cell_type": "code",
   "execution_count": 809,
   "metadata": {},
   "outputs": [],
   "source": [
    "train = pd.read_csv('airbnb-recruiting-new-user-bookings/train_users_2.csv')\n",
    "train_age = train.loc[train.age.notnull()]"
   ]
  },
  {
   "cell_type": "code",
   "execution_count": 810,
   "metadata": {},
   "outputs": [],
   "source": [
    "train_age.loc[(train_age.age >= 18) & (train_age.age < 36), 'age_group'] = '18-36'\n",
    "train_age.loc[(train_age.age >= 36) & (train_age.age < 54), 'age_group'] = '36-54'\n",
    "train_age.loc[(train_age.age >= 54) & (train_age.age < 72), 'age_group'] = '54-72'\n",
    "train_age.loc[(train_age.age >= 72) & (train_age.age < 90), 'age_group'] = '72-90'"
   ]
  },
  {
   "cell_type": "code",
   "execution_count": 811,
   "metadata": {},
   "outputs": [
    {
     "data": {
      "text/plain": [
       "NDF      18667\n",
       "US       14569\n",
       "other     2286\n",
       "FR        1235\n",
       "IT         614\n",
       "GB         568\n",
       "ES         466\n",
       "CA         372\n",
       "DE         258\n",
       "NL         169\n",
       "AU         157\n",
       "PT          40\n",
       "Name: country_destination, dtype: int64"
      ]
     },
     "execution_count": 811,
     "metadata": {},
     "output_type": "execute_result"
    }
   ],
   "source": [
    "train_age.loc[train_age['age_group']=='36-54']['country_destination'].value_counts()"
   ]
  },
  {
   "cell_type": "markdown",
   "metadata": {},
   "source": [
    "### Seeing distribution of destination according to age group"
   ]
  },
  {
   "cell_type": "code",
   "execution_count": 812,
   "metadata": {},
   "outputs": [
    {
     "data": {
      "text/plain": [
       "<matplotlib.axes._subplots.AxesSubplot at 0x1b0707a58>"
      ]
     },
     "execution_count": 812,
     "metadata": {},
     "output_type": "execute_result"
    },
    {
     "data": {
      "image/png": "[encoded data removed]",
      "text/plain": [
       "<Figure size 432x288 with 1 Axes>"
      ]
     },
     "metadata": {
      "needs_background": "light"
     },
     "output_type": "display_data"
    }
   ],
   "source": [
    "sns.countplot(train_age.loc[train_age['age_group']=='18-36']['country_destination'])"
   ]
  },
  {
   "cell_type": "code",
   "execution_count": 813,
   "metadata": {},
   "outputs": [
    {
     "data": {
      "text/plain": [
       "<matplotlib.axes._subplots.AxesSubplot at 0x18c2e78d0>"
      ]
     },
     "execution_count": 813,
     "metadata": {},
     "output_type": "execute_result"
    },
    {
     "data": {
      "image/png": "[encoded data removed]",
      "text/plain": [
       "<Figure size 432x288 with 1 Axes>"
      ]
     },
     "metadata": {
      "needs_background": "light"
     },
     "output_type": "display_data"
    }
   ],
   "source": [
    "sns.countplot(train_age.loc[train_age['age_group']=='36-54']['country_destination'])"
   ]
  },
  {
   "cell_type": "code",
   "execution_count": 814,
   "metadata": {},
   "outputs": [
    {
     "data": {
      "text/plain": [
       "<matplotlib.axes._subplots.AxesSubplot at 0x19ba27668>"
      ]
     },
     "execution_count": 814,
     "metadata": {},
     "output_type": "execute_result"
    },
    {
     "data": {
      "image/png": "[encoded data removed]",
      "text/plain": [
       "<Figure size 432x288 with 1 Axes>"
      ]
     },
     "metadata": {
      "needs_background": "light"
     },
     "output_type": "display_data"
    }
   ],
   "source": [
    "sns.countplot(train_age.loc[train_age['age_group']=='54-72']['country_destination'])"
   ]
  },
  {
   "cell_type": "code",
   "execution_count": 815,
   "metadata": {},
   "outputs": [
    {
     "data": {
      "text/plain": [
       "<matplotlib.axes._subplots.AxesSubplot at 0x18b290b38>"
      ]
     },
     "execution_count": 815,
     "metadata": {},
     "output_type": "execute_result"
    },
    {
     "data": {
      "image/png": "[encoded data removed]",
      "text/plain": [
       "<Figure size 432x288 with 1 Axes>"
      ]
     },
     "metadata": {
      "needs_background": "light"
     },
     "output_type": "display_data"
    }
   ],
   "source": [
    "sns.countplot(train_age.loc[train_age['age_group']=='72-90']['country_destination'])"
   ]
  },
  {
   "cell_type": "code",
   "execution_count": 816,
   "metadata": {},
   "outputs": [
    {
     "data": {
      "text/plain": [
       "array([18. , 22.5, 27. , 31.5, 36. ])"
      ]
     },
     "execution_count": 816,
     "metadata": {},
     "output_type": "execute_result"
    }
   ],
   "source": [
    "np.linspace(18,36,5)"
   ]
  },
  {
   "cell_type": "code",
   "execution_count": 817,
   "metadata": {},
   "outputs": [
    {
     "data": {
      "text/plain": [
       "<matplotlib.axes._subplots.AxesSubplot at 0x1ae38b550>"
      ]
     },
     "execution_count": 817,
     "metadata": {},
     "output_type": "execute_result"
    },
    {
     "data": {
      "image/png": "[encoded data removed]",
      "text/plain": [
       "<Figure size 432x288 with 1 Axes>"
      ]
     },
     "metadata": {
      "needs_background": "light"
     },
     "output_type": "display_data"
    }
   ],
   "source": [
    "sns.countplot(train.loc[train['gender']=='MALE']['country_destination'])"
   ]
  },
  {
   "cell_type": "code",
   "execution_count": 818,
   "metadata": {},
   "outputs": [
    {
     "data": {
      "text/plain": [
       "<matplotlib.axes._subplots.AxesSubplot at 0x157f05668>"
      ]
     },
     "execution_count": 818,
     "metadata": {},
     "output_type": "execute_result"
    },
    {
     "data": {
      "image/png": "[encoded data removed]",
      "text/plain": [
       "<Figure size 432x288 with 1 Axes>"
      ]
     },
     "metadata": {
      "needs_background": "light"
     },
     "output_type": "display_data"
    }
   ],
   "source": [
    "sns.countplot(train.loc[train['gender']=='FEMALE']['country_destination'])"
   ]
  },
  {
   "cell_type": "code",
   "execution_count": 819,
   "metadata": {},
   "outputs": [
    {
     "data": {
      "text/plain": [
       "NDF      26719\n",
       "US       19457\n",
       "other     3443\n",
       "FR        1335\n",
       "IT         699\n",
       "GB         682\n",
       "ES         677\n",
       "CA         477\n",
       "DE         416\n",
       "NL         278\n",
       "AU         188\n",
       "PT          69\n",
       "Name: country_destination, dtype: int64"
      ]
     },
     "execution_count": 819,
     "metadata": {},
     "output_type": "execute_result"
    }
   ],
   "source": [
    "train.loc[train['gender']=='MALE']['country_destination'].value_counts()"
   ]
  },
  {
   "cell_type": "code",
   "execution_count": 820,
   "metadata": {},
   "outputs": [
    {
     "data": {
      "text/plain": [
       "Text(0.5, 0, 'Destination Country')"
      ]
     },
     "execution_count": 820,
     "metadata": {},
     "output_type": "execute_result"
    },
    {
     "data": {
      "image/png": "[encoded data removed]",
      "text/plain": [
       "<Figure size 432x288 with 1 Axes>"
      ]
     },
     "metadata": {
      "needs_background": "light"
     },
     "output_type": "display_data"
    }
   ],
   "source": [
    "sns.countplot(x=\"country_destination\", data=train, order=list(train['country_destination'].value_counts().keys()))\n",
    "plt.xlabel('Destination Country')"
   ]
  },
  {
   "cell_type": "code",
   "execution_count": 821,
   "metadata": {},
   "outputs": [
    {
     "data": {
      "text/plain": [
       "en           96.367589\n",
       "zh            0.955917\n",
       "fr            0.547275\n",
       "es            0.426062\n",
       "ko            0.405013\n",
       "de            0.354567\n",
       "it            0.229725\n",
       "ru            0.184361\n",
       "ja            0.125206\n",
       "pt            0.116858\n",
       "sv            0.063873\n",
       "nl            0.048631\n",
       "tr            0.033388\n",
       "pl            0.027219\n",
       "da            0.027219\n",
       "no            0.018509\n",
       "cs            0.017783\n",
       "el            0.010887\n",
       "th            0.010162\n",
       "hu            0.009073\n",
       "id            0.008347\n",
       "fi            0.007258\n",
       "ca            0.002177\n",
       "is            0.001815\n",
       "hr            0.000726\n",
       "-unknown-     0.000363\n",
       "Name: language, dtype: float64"
      ]
     },
     "execution_count": 821,
     "metadata": {},
     "output_type": "execute_result"
    }
   ],
   "source": [
    "(df.language.value_counts()/df.shape[0])*100"
   ]
  },
  {
   "cell_type": "code",
   "execution_count": 822,
   "metadata": {},
   "outputs": [],
   "source": [
    "# plt.figure(figsize=(30,5))\n",
    "# plt.subplot(1,3,1)\n",
    "# sns.countplot(df['day_fb'])\n",
    "# plt.xticks(rotation=90)\n",
    "# plt.subplot(1,3,2)\n",
    "# sns.countplot(df['month_fb'])\n",
    "# plt.subplot(1,3,3)\n",
    "# sns.countplot(df['year_fb'])\n",
    "# plt.show()"
   ]
  },
  {
   "cell_type": "code",
   "execution_count": 823,
   "metadata": {},
   "outputs": [],
   "source": [
    "# plt.figure(figsize=(30,5))\n",
    "# sb1 = plt.subplot(1,3,1)\n",
    "# sb1.title.set_text('first booking weekday')\n",
    "# sns.countplot(df['weekday_fb'])\n",
    "# sb2 = plt.subplot(1,3,2)\n",
    "# sb2.title.set_text('account created weekday')\n",
    "# sns.countplot(df['weekday_acc'])\n",
    "# sb3 = plt.subplot(1,3,3)\n",
    "# sb3.title.set_text('first active weekday')\n",
    "# sns.countplot(df['weekday_act'])\n",
    "# plt.show()"
   ]
  },
  {
   "cell_type": "markdown",
   "metadata": {},
   "source": [
    "cyclic encoding of dates/years/days etc"
   ]
  },
  {
   "cell_type": "markdown",
   "metadata": {},
   "source": [
    "then model w lightgbm"
   ]
  },
  {
   "cell_type": "code",
   "execution_count": 824,
   "metadata": {},
   "outputs": [
    {
     "name": "stdout",
     "output_type": "stream",
     "text": [
      "                      index   dtypes                     Name  Missing  \\\n",
      "0                    gender   object                   gender   129480   \n",
      "1                       age  float64                      age   119862   \n",
      "2             signup_method   object            signup_method        0   \n",
      "3               signup_flow    int64              signup_flow        0   \n",
      "4                  language   object                 language        0   \n",
      "5         affiliate_channel   object        affiliate_channel        0   \n",
      "6        affiliate_provider   object       affiliate_provider        0   \n",
      "7   first_affiliate_tracked   object  first_affiliate_tracked     6085   \n",
      "8                signup_app   object               signup_app        0   \n",
      "9         first_device_type   object        first_device_type        0   \n",
      "10            first_browser   object            first_browser        0   \n",
      "11                 year_acc    int64                 year_acc        0   \n",
      "12                month_acc    int64                month_acc        0   \n",
      "13                  day_acc    int64                  day_acc        0   \n",
      "14              weekday_acc    int64              weekday_acc        0   \n",
      "15                 year_act    int64                 year_act        0   \n",
      "16                month_act    int64                month_act        0   \n",
      "17                  day_act    int64                  day_act        0   \n",
      "18              weekday_act    int64              weekday_act        0   \n",
      "\n",
      "     Total   MissPerc  NumUnique  \\\n",
      "0   146067  46.990169          3   \n",
      "1   155685  43.499657         75   \n",
      "2   275547   0.000000          4   \n",
      "3   275547   0.000000         18   \n",
      "4   275547   0.000000         26   \n",
      "5   275547   0.000000          8   \n",
      "6   275547   0.000000         18   \n",
      "7   269462   2.208335          7   \n",
      "8   275547   0.000000          4   \n",
      "9   275547   0.000000          9   \n",
      "10  275547   0.000000         55   \n",
      "11  275547   0.000000          5   \n",
      "12  275547   0.000000         12   \n",
      "13  275547   0.000000         31   \n",
      "14  275547   0.000000          7   \n",
      "15  275547   0.000000          6   \n",
      "16  275547   0.000000         12   \n",
      "17  275547   0.000000         31   \n",
      "18  275547   0.000000          7   \n",
      "\n",
      "                                           UniqueVals  \n",
      "0                          [nan, MALE, FEMALE, OTHER]  \n",
      "1   [nan, 38.0, 56.0, 42.0, 41.0, 46.0, 47.0, 50.0...  \n",
      "2                    [facebook, basic, google, weibo]  \n",
      "3   [0, 3, 2, 1, 24, 8, 6, 5, 10, 25, 12, 4, 16, 1...  \n",
      "4   [en, fr, de, es, it, pt, zh, ko, ja, ru, pl, e...  \n",
      "5   [direct, seo, other, sem-non-brand, content, s...  \n",
      "6   [direct, google, other, craigslist, facebook, ...  \n",
      "7   [untracked, omg, nan, linked, tracked-other, p...  \n",
      "8                          [Web, Moweb, iOS, Android]  \n",
      "9   [Mac Desktop, Windows Desktop, iPhone, Other/U...  \n",
      "10  [Chrome, IE, Firefox, Safari, -unknown-, Mobil...  \n",
      "11                     [2010, 2011, 2014, 2012, 2013]  \n",
      "12            [6, 5, 9, 12, 1, 2, 3, 4, 11, 7, 8, 10]  \n",
      "13  [28, 25, 5, 14, 1, 2, 3, 4, 7, 8, 10, 11, 12, ...  \n",
      "14                              [0, 2, 1, 4, 5, 6, 3]  \n",
      "15               [2009, 2010, 2011, 2012, 2013, 2014]  \n",
      "16            [3, 5, 6, 10, 12, 1, 2, 4, 7, 8, 9, 11]  \n",
      "17  [19, 23, 9, 31, 8, 1, 2, 3, 4, 5, 7, 10, 11, 1...  \n",
      "18                              [3, 5, 1, 4, 6, 0, 2]  \n"
     ]
    }
   ],
   "source": [
    "explore(df)"
   ]
  },
  {
   "cell_type": "code",
   "execution_count": 825,
   "metadata": {},
   "outputs": [],
   "source": [
    "def encodeCyclic(data, name):\n",
    "    colprefix = ['year', 'month', 'day', 'weekday']\n",
    "\n",
    "    data['day_' + name + '_sin'] = np.sin(data['day' + name] * (2. * np.pi / len(data['day'+name].unique())))\n",
    "    data['day' + name + '_cos'] = np.cos(data['day' + name] * (2. * np.pi / len(data['day'+name].unique())))\n",
    "\n",
    "    data['month' + name + '_sin'] = np.sin((data['month' + name] - 1) * (2. * np.pi / len(data['month'+name].unique())))\n",
    "    data['month' + name + '_cos'] = np.cos((data['month' + name] - 1) * (2. * np.pi / len(data['month'+name].unique())))\n",
    "\n",
    "    data['year' + name + '_cos'] = np.cos((data['year' + name] - 1) * (2. * np.pi / len(data['year'+name].unique())))\n",
    "    data['year' + name + '_cos'] = np.cos((data['year' + name] - 1) * (2. * np.pi / len(data['year'+name].unique())))\n",
    "    \n",
    "    data['weekday' + name + '_cos'] = np.cos((data['weekday' + name] - 1) * (2. * np.pi / len(data['weekday'+name].unique())))\n",
    "    data['weekday' + name + '_cos'] = np.cos((data['weekday' + name] - 1) * (2. * np.pi / len(data['weekday'+name].unique())))\n",
    "    \n",
    "    \n",
    "    return data.drop(['day'+name, 'month'+name, 'year'+name, 'weekday'+name], axis=1)"
   ]
  },
  {
   "cell_type": "code",
   "execution_count": 826,
   "metadata": {},
   "outputs": [
    {
     "data": {
      "text/html": [
       "<div>\n",
       "<style scoped>\n",
       "    .dataframe tbody tr th:only-of-type {\n",
       "        vertical-align: middle;\n",
       "    }\n",
       "\n",
       "    .dataframe tbody tr th {\n",
       "        vertical-align: top;\n",
       "    }\n",
       "\n",
       "    .dataframe thead th {\n",
       "        text-align: right;\n",
       "    }\n",
       "</style>\n",
       "<table border=\"1\" class=\"dataframe\">\n",
       "  <thead>\n",
       "    <tr style=\"text-align: right;\">\n",
       "      <th></th>\n",
       "      <th>gender</th>\n",
       "      <th>age</th>\n",
       "      <th>signup_method</th>\n",
       "      <th>signup_flow</th>\n",
       "      <th>language</th>\n",
       "      <th>affiliate_channel</th>\n",
       "      <th>affiliate_provider</th>\n",
       "      <th>first_affiliate_tracked</th>\n",
       "      <th>signup_app</th>\n",
       "      <th>first_device_type</th>\n",
       "      <th>first_browser</th>\n",
       "      <th>year_acc</th>\n",
       "      <th>month_acc</th>\n",
       "      <th>day_acc</th>\n",
       "      <th>weekday_acc</th>\n",
       "      <th>year_act</th>\n",
       "      <th>month_act</th>\n",
       "      <th>day_act</th>\n",
       "      <th>weekday_act</th>\n",
       "    </tr>\n",
       "  </thead>\n",
       "  <tbody>\n",
       "    <tr>\n",
       "      <th>0</th>\n",
       "      <td>NaN</td>\n",
       "      <td>NaN</td>\n",
       "      <td>facebook</td>\n",
       "      <td>0</td>\n",
       "      <td>en</td>\n",
       "      <td>direct</td>\n",
       "      <td>direct</td>\n",
       "      <td>untracked</td>\n",
       "      <td>Web</td>\n",
       "      <td>Mac Desktop</td>\n",
       "      <td>Chrome</td>\n",
       "      <td>2010</td>\n",
       "      <td>6</td>\n",
       "      <td>28</td>\n",
       "      <td>0</td>\n",
       "      <td>2009</td>\n",
       "      <td>3</td>\n",
       "      <td>19</td>\n",
       "      <td>3</td>\n",
       "    </tr>\n",
       "    <tr>\n",
       "      <th>1</th>\n",
       "      <td>MALE</td>\n",
       "      <td>38.0</td>\n",
       "      <td>facebook</td>\n",
       "      <td>0</td>\n",
       "      <td>en</td>\n",
       "      <td>seo</td>\n",
       "      <td>google</td>\n",
       "      <td>untracked</td>\n",
       "      <td>Web</td>\n",
       "      <td>Mac Desktop</td>\n",
       "      <td>Chrome</td>\n",
       "      <td>2011</td>\n",
       "      <td>5</td>\n",
       "      <td>25</td>\n",
       "      <td>2</td>\n",
       "      <td>2009</td>\n",
       "      <td>5</td>\n",
       "      <td>23</td>\n",
       "      <td>5</td>\n",
       "    </tr>\n",
       "    <tr>\n",
       "      <th>2</th>\n",
       "      <td>FEMALE</td>\n",
       "      <td>56.0</td>\n",
       "      <td>basic</td>\n",
       "      <td>3</td>\n",
       "      <td>en</td>\n",
       "      <td>direct</td>\n",
       "      <td>direct</td>\n",
       "      <td>untracked</td>\n",
       "      <td>Web</td>\n",
       "      <td>Windows Desktop</td>\n",
       "      <td>IE</td>\n",
       "      <td>2010</td>\n",
       "      <td>9</td>\n",
       "      <td>28</td>\n",
       "      <td>1</td>\n",
       "      <td>2009</td>\n",
       "      <td>6</td>\n",
       "      <td>9</td>\n",
       "      <td>1</td>\n",
       "    </tr>\n",
       "    <tr>\n",
       "      <th>3</th>\n",
       "      <td>FEMALE</td>\n",
       "      <td>42.0</td>\n",
       "      <td>facebook</td>\n",
       "      <td>0</td>\n",
       "      <td>en</td>\n",
       "      <td>direct</td>\n",
       "      <td>direct</td>\n",
       "      <td>untracked</td>\n",
       "      <td>Web</td>\n",
       "      <td>Mac Desktop</td>\n",
       "      <td>Firefox</td>\n",
       "      <td>2011</td>\n",
       "      <td>12</td>\n",
       "      <td>5</td>\n",
       "      <td>0</td>\n",
       "      <td>2009</td>\n",
       "      <td>10</td>\n",
       "      <td>31</td>\n",
       "      <td>5</td>\n",
       "    </tr>\n",
       "    <tr>\n",
       "      <th>4</th>\n",
       "      <td>NaN</td>\n",
       "      <td>41.0</td>\n",
       "      <td>basic</td>\n",
       "      <td>0</td>\n",
       "      <td>en</td>\n",
       "      <td>direct</td>\n",
       "      <td>direct</td>\n",
       "      <td>untracked</td>\n",
       "      <td>Web</td>\n",
       "      <td>Mac Desktop</td>\n",
       "      <td>Chrome</td>\n",
       "      <td>2010</td>\n",
       "      <td>9</td>\n",
       "      <td>14</td>\n",
       "      <td>1</td>\n",
       "      <td>2009</td>\n",
       "      <td>12</td>\n",
       "      <td>8</td>\n",
       "      <td>1</td>\n",
       "    </tr>\n",
       "    <tr>\n",
       "      <th>...</th>\n",
       "      <td>...</td>\n",
       "      <td>...</td>\n",
       "      <td>...</td>\n",
       "      <td>...</td>\n",
       "      <td>...</td>\n",
       "      <td>...</td>\n",
       "      <td>...</td>\n",
       "      <td>...</td>\n",
       "      <td>...</td>\n",
       "      <td>...</td>\n",
       "      <td>...</td>\n",
       "      <td>...</td>\n",
       "      <td>...</td>\n",
       "      <td>...</td>\n",
       "      <td>...</td>\n",
       "      <td>...</td>\n",
       "      <td>...</td>\n",
       "      <td>...</td>\n",
       "      <td>...</td>\n",
       "    </tr>\n",
       "    <tr>\n",
       "      <th>62091</th>\n",
       "      <td>NaN</td>\n",
       "      <td>31.0</td>\n",
       "      <td>basic</td>\n",
       "      <td>0</td>\n",
       "      <td>en</td>\n",
       "      <td>direct</td>\n",
       "      <td>direct</td>\n",
       "      <td>untracked</td>\n",
       "      <td>Web</td>\n",
       "      <td>Windows Desktop</td>\n",
       "      <td>IE</td>\n",
       "      <td>2014</td>\n",
       "      <td>9</td>\n",
       "      <td>30</td>\n",
       "      <td>1</td>\n",
       "      <td>2014</td>\n",
       "      <td>9</td>\n",
       "      <td>30</td>\n",
       "      <td>1</td>\n",
       "    </tr>\n",
       "    <tr>\n",
       "      <th>62092</th>\n",
       "      <td>NaN</td>\n",
       "      <td>NaN</td>\n",
       "      <td>basic</td>\n",
       "      <td>23</td>\n",
       "      <td>ko</td>\n",
       "      <td>direct</td>\n",
       "      <td>direct</td>\n",
       "      <td>untracked</td>\n",
       "      <td>Android</td>\n",
       "      <td>Android Phone</td>\n",
       "      <td>-unknown-</td>\n",
       "      <td>2014</td>\n",
       "      <td>9</td>\n",
       "      <td>30</td>\n",
       "      <td>1</td>\n",
       "      <td>2014</td>\n",
       "      <td>9</td>\n",
       "      <td>30</td>\n",
       "      <td>1</td>\n",
       "    </tr>\n",
       "    <tr>\n",
       "      <th>62093</th>\n",
       "      <td>NaN</td>\n",
       "      <td>NaN</td>\n",
       "      <td>basic</td>\n",
       "      <td>0</td>\n",
       "      <td>de</td>\n",
       "      <td>direct</td>\n",
       "      <td>direct</td>\n",
       "      <td>linked</td>\n",
       "      <td>Web</td>\n",
       "      <td>Windows Desktop</td>\n",
       "      <td>Firefox</td>\n",
       "      <td>2014</td>\n",
       "      <td>9</td>\n",
       "      <td>30</td>\n",
       "      <td>1</td>\n",
       "      <td>2014</td>\n",
       "      <td>9</td>\n",
       "      <td>30</td>\n",
       "      <td>1</td>\n",
       "    </tr>\n",
       "    <tr>\n",
       "      <th>62094</th>\n",
       "      <td>NaN</td>\n",
       "      <td>NaN</td>\n",
       "      <td>basic</td>\n",
       "      <td>0</td>\n",
       "      <td>en</td>\n",
       "      <td>sem-brand</td>\n",
       "      <td>google</td>\n",
       "      <td>omg</td>\n",
       "      <td>Web</td>\n",
       "      <td>Mac Desktop</td>\n",
       "      <td>Safari</td>\n",
       "      <td>2014</td>\n",
       "      <td>9</td>\n",
       "      <td>30</td>\n",
       "      <td>1</td>\n",
       "      <td>2014</td>\n",
       "      <td>9</td>\n",
       "      <td>30</td>\n",
       "      <td>1</td>\n",
       "    </tr>\n",
       "    <tr>\n",
       "      <th>62095</th>\n",
       "      <td>FEMALE</td>\n",
       "      <td>49.0</td>\n",
       "      <td>basic</td>\n",
       "      <td>0</td>\n",
       "      <td>en</td>\n",
       "      <td>other</td>\n",
       "      <td>other</td>\n",
       "      <td>tracked-other</td>\n",
       "      <td>Web</td>\n",
       "      <td>Windows Desktop</td>\n",
       "      <td>Chrome</td>\n",
       "      <td>2014</td>\n",
       "      <td>9</td>\n",
       "      <td>30</td>\n",
       "      <td>1</td>\n",
       "      <td>2014</td>\n",
       "      <td>9</td>\n",
       "      <td>30</td>\n",
       "      <td>1</td>\n",
       "    </tr>\n",
       "  </tbody>\n",
       "</table>\n",
       "<p>275547 rows × 19 columns</p>\n",
       "</div>"
      ],
      "text/plain": [
       "       gender   age signup_method  signup_flow language affiliate_channel  \\\n",
       "0         NaN   NaN      facebook            0       en            direct   \n",
       "1        MALE  38.0      facebook            0       en               seo   \n",
       "2      FEMALE  56.0         basic            3       en            direct   \n",
       "3      FEMALE  42.0      facebook            0       en            direct   \n",
       "4         NaN  41.0         basic            0       en            direct   \n",
       "...       ...   ...           ...          ...      ...               ...   \n",
       "62091     NaN  31.0         basic            0       en            direct   \n",
       "62092     NaN   NaN         basic           23       ko            direct   \n",
       "62093     NaN   NaN         basic            0       de            direct   \n",
       "62094     NaN   NaN         basic            0       en         sem-brand   \n",
       "62095  FEMALE  49.0         basic            0       en             other   \n",
       "\n",
       "      affiliate_provider first_affiliate_tracked signup_app first_device_type  \\\n",
       "0                 direct               untracked        Web       Mac Desktop   \n",
       "1                 google               untracked        Web       Mac Desktop   \n",
       "2                 direct               untracked        Web   Windows Desktop   \n",
       "3                 direct               untracked        Web       Mac Desktop   \n",
       "4                 direct               untracked        Web       Mac Desktop   \n",
       "...                  ...                     ...        ...               ...   \n",
       "62091             direct               untracked        Web   Windows Desktop   \n",
       "62092             direct               untracked    Android     Android Phone   \n",
       "62093             direct                  linked        Web   Windows Desktop   \n",
       "62094             google                     omg        Web       Mac Desktop   \n",
       "62095              other           tracked-other        Web   Windows Desktop   \n",
       "\n",
       "      first_browser  year_acc  month_acc  day_acc  weekday_acc  year_act  \\\n",
       "0            Chrome      2010          6       28            0      2009   \n",
       "1            Chrome      2011          5       25            2      2009   \n",
       "2                IE      2010          9       28            1      2009   \n",
       "3           Firefox      2011         12        5            0      2009   \n",
       "4            Chrome      2010          9       14            1      2009   \n",
       "...             ...       ...        ...      ...          ...       ...   \n",
       "62091            IE      2014          9       30            1      2014   \n",
       "62092     -unknown-      2014          9       30            1      2014   \n",
       "62093       Firefox      2014          9       30            1      2014   \n",
       "62094        Safari      2014          9       30            1      2014   \n",
       "62095        Chrome      2014          9       30            1      2014   \n",
       "\n",
       "       month_act  day_act  weekday_act  \n",
       "0              3       19            3  \n",
       "1              5       23            5  \n",
       "2              6        9            1  \n",
       "3             10       31            5  \n",
       "4             12        8            1  \n",
       "...          ...      ...          ...  \n",
       "62091          9       30            1  \n",
       "62092          9       30            1  \n",
       "62093          9       30            1  \n",
       "62094          9       30            1  \n",
       "62095          9       30            1  \n",
       "\n",
       "[275547 rows x 19 columns]"
      ]
     },
     "execution_count": 826,
     "metadata": {},
     "output_type": "execute_result"
    }
   ],
   "source": [
    "df"
   ]
  },
  {
   "cell_type": "code",
   "execution_count": 827,
   "metadata": {},
   "outputs": [],
   "source": [
    "df = encodeCyclic(df, '_acc')\n",
    "df = encodeCyclic(df, '_act')\n",
    "# df = encodeCyclic(df, '_fb')"
   ]
  },
  {
   "cell_type": "code",
   "execution_count": 828,
   "metadata": {},
   "outputs": [],
   "source": [
    "df.gender.fillna('OTHER', inplace=True)\n",
    "df.age.fillna(-1, inplace=True)\n",
    "df.first_affiliate_tracked.fillna('-1', inplace=True)"
   ]
  },
  {
   "cell_type": "code",
   "execution_count": 829,
   "metadata": {},
   "outputs": [],
   "source": [
    "from sklearn.preprocessing import LabelEncoder\n",
    "\n",
    "def convertFeatures(data):\n",
    "    cols = ['gender', 'signup_method', 'language', 'affiliate_channel', 'affiliate_provider', 'first_affiliate_tracked', 'signup_app', 'first_device_type', 'first_browser']\n",
    "    for col in cols:\n",
    "        le = LabelEncoder()\n",
    "        data[col] = le.fit_transform(data[col])\n",
    "    return data"
   ]
  },
  {
   "cell_type": "code",
   "execution_count": 830,
   "metadata": {},
   "outputs": [
    {
     "data": {
      "text/plain": [
       "NDF      124543\n",
       "US        62376\n",
       "other     10094\n",
       "FR         5023\n",
       "IT         2835\n",
       "GB         2324\n",
       "ES         2249\n",
       "CA         1428\n",
       "DE         1061\n",
       "NL          762\n",
       "AU          539\n",
       "PT          217\n",
       "Name: country_destination, dtype: int64"
      ]
     },
     "execution_count": 830,
     "metadata": {},
     "output_type": "execute_result"
    }
   ],
   "source": [
    "train_y.value_counts()"
   ]
  },
  {
   "cell_type": "code",
   "execution_count": 831,
   "metadata": {},
   "outputs": [],
   "source": [
    "df = convertFeatures(df)"
   ]
  },
  {
   "cell_type": "code",
   "execution_count": 832,
   "metadata": {},
   "outputs": [],
   "source": [
    "train = df[0:train_len]\n",
    "test = df[train_len: (train_len + test_len)]"
   ]
  },
  {
   "cell_type": "code",
   "execution_count": 833,
   "metadata": {},
   "outputs": [],
   "source": [
    "le = LabelEncoder()\n",
    "encodedLabels = le.fit_transform(train_y)"
   ]
  },
  {
   "cell_type": "code",
   "execution_count": 834,
   "metadata": {},
   "outputs": [
    {
     "data": {
      "text/plain": [
       "{0, 1, 2, 3, 4, 5, 6, 7, 8, 9, 10, 11}"
      ]
     },
     "execution_count": 834,
     "metadata": {},
     "output_type": "execute_result"
    }
   ],
   "source": [
    "set(encodedLabels)"
   ]
  },
  {
   "cell_type": "markdown",
   "metadata": {},
   "source": [
    "# Modelling Test"
   ]
  },
  {
   "cell_type": "code",
   "execution_count": 835,
   "metadata": {},
   "outputs": [],
   "source": [
    "import lightgbm as lgb\n",
    "from sklearn.model_selection import train_test_split\n",
    "from sklearn.metrics import accuracy_score, roc_auc_score\n",
    "\n",
    "def lightGBMModel(x_data, y_data, x_test):\n",
    "    # using lightgbm model to compare accuracy with normal rand forest\n",
    "    train_x, valid_x, train_y, valid_y = train_test_split(\n",
    "        x_data, y_data, test_size=0.33)\n",
    "\n",
    "    train_data = lgb.Dataset(train_x, label=train_y)\n",
    "    valid_data = lgb.Dataset(valid_x, label=valid_y)\n",
    "\n",
    "    params = {\n",
    "        'boosting_type': 'gbdt',\n",
    "        'objective': 'multiclass',\n",
    "        'num_class': '12',\n",
    "        'metric': 'multi_logloss'\n",
    "    }\n",
    "\n",
    "    print('Starting training...')\n",
    "    # train\n",
    "    gbm = lgb.train(params,\n",
    "                    train_data,\n",
    "                    num_boost_round=2000,\n",
    "                    valid_sets=valid_data,\n",
    "                    early_stopping_rounds=50)\n",
    "    # predict\n",
    "    return gbm"
   ]
  },
  {
   "cell_type": "code",
   "execution_count": 836,
   "metadata": {},
   "outputs": [
    {
     "name": "stdout",
     "output_type": "stream",
     "text": [
      "Starting training...\n",
      "[1]\tvalid_0's multi_logloss: 1.14376\n",
      "Training until validation scores don't improve for 50 rounds\n",
      "[2]\tvalid_0's multi_logloss: 1.13138\n",
      "[3]\tvalid_0's multi_logloss: 1.12104\n",
      "[4]\tvalid_0's multi_logloss: 1.11233\n",
      "[5]\tvalid_0's multi_logloss: 1.10489\n",
      "[6]\tvalid_0's multi_logloss: 1.09847\n",
      "[7]\tvalid_0's multi_logloss: 1.093\n",
      "[8]\tvalid_0's multi_logloss: 1.08842\n",
      "[9]\tvalid_0's multi_logloss: 1.08433\n",
      "[10]\tvalid_0's multi_logloss: 1.08085\n",
      "[11]\tvalid_0's multi_logloss: 1.07781\n",
      "[12]\tvalid_0's multi_logloss: 1.07523\n",
      "[13]\tvalid_0's multi_logloss: 1.07292\n",
      "[14]\tvalid_0's multi_logloss: 1.07099\n",
      "[15]\tvalid_0's multi_logloss: 1.06928\n",
      "[16]\tvalid_0's multi_logloss: 1.0678\n",
      "[17]\tvalid_0's multi_logloss: 1.06644\n",
      "[18]\tvalid_0's multi_logloss: 1.06522\n",
      "[19]\tvalid_0's multi_logloss: 1.06424\n",
      "[20]\tvalid_0's multi_logloss: 1.06333\n",
      "[21]\tvalid_0's multi_logloss: 1.06254\n",
      "[22]\tvalid_0's multi_logloss: 1.06173\n",
      "[23]\tvalid_0's multi_logloss: 1.06106\n",
      "[24]\tvalid_0's multi_logloss: 1.06041\n",
      "[25]\tvalid_0's multi_logloss: 1.05985\n",
      "[26]\tvalid_0's multi_logloss: 1.05942\n",
      "[27]\tvalid_0's multi_logloss: 1.05895\n",
      "[28]\tvalid_0's multi_logloss: 1.05856\n",
      "[29]\tvalid_0's multi_logloss: 1.05819\n",
      "[30]\tvalid_0's multi_logloss: 1.05781\n",
      "[31]\tvalid_0's multi_logloss: 1.05748\n",
      "[32]\tvalid_0's multi_logloss: 1.05722\n",
      "[33]\tvalid_0's multi_logloss: 1.05694\n",
      "[34]\tvalid_0's multi_logloss: 1.05665\n",
      "[35]\tvalid_0's multi_logloss: 1.05643\n",
      "[36]\tvalid_0's multi_logloss: 1.0562\n",
      "[37]\tvalid_0's multi_logloss: 1.05597\n",
      "[38]\tvalid_0's multi_logloss: 1.05581\n",
      "[39]\tvalid_0's multi_logloss: 1.05562\n",
      "[40]\tvalid_0's multi_logloss: 1.05542\n",
      "[41]\tvalid_0's multi_logloss: 1.05531\n",
      "[42]\tvalid_0's multi_logloss: 1.05516\n",
      "[43]\tvalid_0's multi_logloss: 1.05501\n",
      "[44]\tvalid_0's multi_logloss: 1.05487\n",
      "[45]\tvalid_0's multi_logloss: 1.05478\n",
      "[46]\tvalid_0's multi_logloss: 1.05467\n",
      "[47]\tvalid_0's multi_logloss: 1.05457\n",
      "[48]\tvalid_0's multi_logloss: 1.05451\n",
      "[49]\tvalid_0's multi_logloss: 1.05447\n",
      "[50]\tvalid_0's multi_logloss: 1.05437\n",
      "[51]\tvalid_0's multi_logloss: 1.0543\n",
      "[52]\tvalid_0's multi_logloss: 1.05423\n",
      "[53]\tvalid_0's multi_logloss: 1.05412\n",
      "[54]\tvalid_0's multi_logloss: 1.05404\n",
      "[55]\tvalid_0's multi_logloss: 1.05397\n",
      "[56]\tvalid_0's multi_logloss: 1.05395\n",
      "[57]\tvalid_0's multi_logloss: 1.05391\n",
      "[58]\tvalid_0's multi_logloss: 1.05392\n",
      "[59]\tvalid_0's multi_logloss: 1.05387\n",
      "[60]\tvalid_0's multi_logloss: 1.05383\n",
      "[61]\tvalid_0's multi_logloss: 1.05382\n",
      "[62]\tvalid_0's multi_logloss: 1.05381\n",
      "[63]\tvalid_0's multi_logloss: 1.05379\n",
      "[64]\tvalid_0's multi_logloss: 1.05375\n",
      "[65]\tvalid_0's multi_logloss: 1.05375\n",
      "[66]\tvalid_0's multi_logloss: 1.05373\n",
      "[67]\tvalid_0's multi_logloss: 1.05371\n",
      "[68]\tvalid_0's multi_logloss: 1.05369\n",
      "[69]\tvalid_0's multi_logloss: 1.05366\n",
      "[70]\tvalid_0's multi_logloss: 1.05365\n",
      "[71]\tvalid_0's multi_logloss: 1.05366\n",
      "[72]\tvalid_0's multi_logloss: 1.05369\n",
      "[73]\tvalid_0's multi_logloss: 1.05368\n",
      "[74]\tvalid_0's multi_logloss: 1.05363\n",
      "[75]\tvalid_0's multi_logloss: 1.0536\n",
      "[76]\tvalid_0's multi_logloss: 1.0536\n",
      "[77]\tvalid_0's multi_logloss: 1.05361\n",
      "[78]\tvalid_0's multi_logloss: 1.05359\n",
      "[79]\tvalid_0's multi_logloss: 1.05358\n",
      "[80]\tvalid_0's multi_logloss: 1.0536\n",
      "[81]\tvalid_0's multi_logloss: 1.05361\n",
      "[82]\tvalid_0's multi_logloss: 1.05356\n",
      "[83]\tvalid_0's multi_logloss: 1.05357\n",
      "[84]\tvalid_0's multi_logloss: 1.0536\n",
      "[85]\tvalid_0's multi_logloss: 1.05362\n",
      "[86]\tvalid_0's multi_logloss: 1.05363\n",
      "[87]\tvalid_0's multi_logloss: 1.05362\n",
      "[88]\tvalid_0's multi_logloss: 1.05364\n",
      "[89]\tvalid_0's multi_logloss: 1.05368\n",
      "[90]\tvalid_0's multi_logloss: 1.05371\n",
      "[91]\tvalid_0's multi_logloss: 1.05371\n",
      "[92]\tvalid_0's multi_logloss: 1.05371\n",
      "[93]\tvalid_0's multi_logloss: 1.05374\n",
      "[94]\tvalid_0's multi_logloss: 1.05373\n",
      "[95]\tvalid_0's multi_logloss: 1.05375\n",
      "[96]\tvalid_0's multi_logloss: 1.05378\n",
      "[97]\tvalid_0's multi_logloss: 1.05378\n",
      "[98]\tvalid_0's multi_logloss: 1.05378\n",
      "[99]\tvalid_0's multi_logloss: 1.05381\n",
      "[100]\tvalid_0's multi_logloss: 1.05382\n",
      "[101]\tvalid_0's multi_logloss: 1.05386\n",
      "[102]\tvalid_0's multi_logloss: 1.0539\n",
      "[103]\tvalid_0's multi_logloss: 1.05394\n",
      "[104]\tvalid_0's multi_logloss: 1.054\n",
      "[105]\tvalid_0's multi_logloss: 1.05401\n",
      "[106]\tvalid_0's multi_logloss: 1.05405\n",
      "[107]\tvalid_0's multi_logloss: 1.05406\n",
      "[108]\tvalid_0's multi_logloss: 1.05405\n",
      "[109]\tvalid_0's multi_logloss: 1.05406\n",
      "[110]\tvalid_0's multi_logloss: 1.05407\n",
      "[111]\tvalid_0's multi_logloss: 1.05413\n",
      "[112]\tvalid_0's multi_logloss: 1.05417\n",
      "[113]\tvalid_0's multi_logloss: 1.05415\n",
      "[114]\tvalid_0's multi_logloss: 1.05418\n",
      "[115]\tvalid_0's multi_logloss: 1.05423\n",
      "[116]\tvalid_0's multi_logloss: 1.05426\n",
      "[117]\tvalid_0's multi_logloss: 1.0543\n",
      "[118]\tvalid_0's multi_logloss: 1.05433\n",
      "[119]\tvalid_0's multi_logloss: 1.05435\n",
      "[120]\tvalid_0's multi_logloss: 1.0544\n",
      "[121]\tvalid_0's multi_logloss: 1.05443\n",
      "[122]\tvalid_0's multi_logloss: 1.05446\n",
      "[123]\tvalid_0's multi_logloss: 1.0545\n",
      "[124]\tvalid_0's multi_logloss: 1.05453\n",
      "[125]\tvalid_0's multi_logloss: 1.05453\n",
      "[126]\tvalid_0's multi_logloss: 1.05456\n",
      "[127]\tvalid_0's multi_logloss: 1.05459\n",
      "[128]\tvalid_0's multi_logloss: 1.0546\n",
      "[129]\tvalid_0's multi_logloss: 1.05461\n",
      "[130]\tvalid_0's multi_logloss: 1.05455\n",
      "[131]\tvalid_0's multi_logloss: 1.05457\n",
      "[132]\tvalid_0's multi_logloss: 1.05461\n",
      "Early stopping, best iteration is:\n",
      "[82]\tvalid_0's multi_logloss: 1.05356\n"
     ]
    }
   ],
   "source": [
    "gbm = lightGBMModel(train, encodedLabels, test)"
   ]
  },
  {
   "cell_type": "code",
   "execution_count": 837,
   "metadata": {},
   "outputs": [],
   "source": [
    "predsArr = []\n",
    "for i in range(test.shape[0]):\n",
    "    predsArr.append((np.argmax(gbm.predict(test.iloc[i]))))"
   ]
  },
  {
   "cell_type": "code",
   "execution_count": 838,
   "metadata": {},
   "outputs": [],
   "source": [
    "predsArr = le.inverse_transform(predsArr)"
   ]
  },
  {
   "cell_type": "code",
   "execution_count": 839,
   "metadata": {},
   "outputs": [
    {
     "data": {
      "text/plain": [
       "{'AU', 'IT', 'NDF', 'PT', 'US', 'other'}"
      ]
     },
     "execution_count": 839,
     "metadata": {},
     "output_type": "execute_result"
    }
   ],
   "source": [
    "set(predsArr)"
   ]
  },
  {
   "cell_type": "code",
   "execution_count": 840,
   "metadata": {},
   "outputs": [
    {
     "data": {
      "text/plain": [
       "7"
      ]
     },
     "execution_count": 840,
     "metadata": {},
     "output_type": "execute_result"
    }
   ],
   "source": [
    "np.argmax(gbm.predict(train.iloc[12]))"
   ]
  },
  {
   "cell_type": "code",
   "execution_count": 841,
   "metadata": {},
   "outputs": [
    {
     "data": {
      "text/plain": [
       "4"
      ]
     },
     "execution_count": 841,
     "metadata": {},
     "output_type": "execute_result"
    }
   ],
   "source": [
    "encodedLabels[12]"
   ]
  },
  {
   "cell_type": "code",
   "execution_count": 842,
   "metadata": {},
   "outputs": [
    {
     "data": {
      "text/plain": [
       "gender                      0.000000\n",
       "age                        56.000000\n",
       "signup_method               0.000000\n",
       "signup_flow                 3.000000\n",
       "language                    6.000000\n",
       "affiliate_channel           2.000000\n",
       "affiliate_provider          4.000000\n",
       "first_affiliate_tracked     7.000000\n",
       "signup_app                  2.000000\n",
       "first_device_type           6.000000\n",
       "first_browser              22.000000\n",
       "day__acc_sin               -0.571268\n",
       "day_acc_cos                 0.820763\n",
       "month_acc_sin              -0.866025\n",
       "month_acc_cos              -0.500000\n",
       "year_acc_cos                0.309017\n",
       "weekday_acc_cos             1.000000\n",
       "day__act_sin                0.968077\n",
       "day_act_cos                -0.250653\n",
       "month_act_sin               0.500000\n",
       "month_act_cos              -0.866025\n",
       "year_act_cos               -0.500000\n",
       "weekday_act_cos             1.000000\n",
       "Name: 2, dtype: float64"
      ]
     },
     "execution_count": 842,
     "metadata": {},
     "output_type": "execute_result"
    }
   ],
   "source": [
    "train.iloc[2]"
   ]
  },
  {
   "cell_type": "code",
   "execution_count": 843,
   "metadata": {},
   "outputs": [],
   "source": [
    "import shap\n",
    "def shapRanking(x_data, y_data):\n",
    "    train_x, valid_x, train_y, valid_y = train_test_split(\n",
    "        x_data, y_data, test_size=0.33, random_state=42)\n",
    "\n",
    "    train_data = lgb.Dataset(train_x, label=train_y)\n",
    "    valid_data = lgb.Dataset(valid_x, label=valid_y)\n",
    "\n",
    "    # LGB parameters:\n",
    "    params = {\n",
    "        'boosting_type': 'gbdt',\n",
    "        'objective': 'multiclass',\n",
    "        'num_class': '12',\n",
    "        'metric': 'multi_logloss'\n",
    "             }\n",
    "\n",
    "    # LGB training:\n",
    "    lgb_model = lgb.train(params, train_data,\n",
    "                          num_boost_round=2000,\n",
    "                          valid_sets=(valid_data,),\n",
    "                          verbose_eval=10,\n",
    "                          early_stopping_rounds=20)\n",
    "\n",
    "    explainer = shap.TreeExplainer(lgb_model).shap_values(valid_x)\n",
    "    shap.summary_plot(explainer[1], valid_x)\n",
    "    plt.show()"
   ]
  },
  {
   "cell_type": "code",
   "execution_count": 844,
   "metadata": {},
   "outputs": [],
   "source": [
    "# shapRanking(train, encodedLabels)"
   ]
  },
  {
   "cell_type": "code",
   "execution_count": 845,
   "metadata": {},
   "outputs": [],
   "source": [
    "from xgboost import XGBClassifier"
   ]
  },
  {
   "cell_type": "code",
   "execution_count": 846,
   "metadata": {},
   "outputs": [],
   "source": [
    "xgb = XGBClassifier(max_depth=6, learning_rate=0.2, n_estimators=43,\n",
    "                    objective='multi:softprob', subsample=1, colsample_bytree=0.5, seed=1)                  \n",
    "xgb.fit(train, encodedLabels)\n",
    "y_pred = xgb.predict_proba(test) "
   ]
  },
  {
   "cell_type": "code",
   "execution_count": 847,
   "metadata": {},
   "outputs": [],
   "source": [
    "y_pred_arg = [np.argmax(x) for x in y_pred]"
   ]
  },
  {
   "cell_type": "code",
   "execution_count": 848,
   "metadata": {},
   "outputs": [],
   "source": [
    "preds = le.inverse_transform(y_pred_arg)"
   ]
  },
  {
   "cell_type": "code",
   "execution_count": 849,
   "metadata": {},
   "outputs": [
    {
     "data": {
      "text/plain": [
       "{'NDF', 'US', 'other'}"
      ]
     },
     "execution_count": 849,
     "metadata": {},
     "output_type": "execute_result"
    }
   ],
   "source": [
    "set(preds)"
   ]
  },
  {
   "cell_type": "code",
   "execution_count": 850,
   "metadata": {},
   "outputs": [
    {
     "data": {
      "text/html": [
       "<div>\n",
       "<style scoped>\n",
       "    .dataframe tbody tr th:only-of-type {\n",
       "        vertical-align: middle;\n",
       "    }\n",
       "\n",
       "    .dataframe tbody tr th {\n",
       "        vertical-align: top;\n",
       "    }\n",
       "\n",
       "    .dataframe thead th {\n",
       "        text-align: right;\n",
       "    }\n",
       "</style>\n",
       "<table border=\"1\" class=\"dataframe\">\n",
       "  <thead>\n",
       "    <tr style=\"text-align: right;\">\n",
       "      <th></th>\n",
       "      <th>gender</th>\n",
       "      <th>age</th>\n",
       "      <th>signup_method</th>\n",
       "      <th>signup_flow</th>\n",
       "      <th>language</th>\n",
       "      <th>affiliate_channel</th>\n",
       "      <th>affiliate_provider</th>\n",
       "      <th>first_affiliate_tracked</th>\n",
       "      <th>signup_app</th>\n",
       "      <th>first_device_type</th>\n",
       "      <th>first_browser</th>\n",
       "      <th>day__acc_sin</th>\n",
       "      <th>day_acc_cos</th>\n",
       "      <th>month_acc_sin</th>\n",
       "      <th>month_acc_cos</th>\n",
       "      <th>year_acc_cos</th>\n",
       "      <th>weekday_acc_cos</th>\n",
       "      <th>day__act_sin</th>\n",
       "      <th>day_act_cos</th>\n",
       "      <th>month_act_sin</th>\n",
       "      <th>month_act_cos</th>\n",
       "      <th>year_act_cos</th>\n",
       "      <th>weekday_act_cos</th>\n",
       "    </tr>\n",
       "  </thead>\n",
       "  <tbody>\n",
       "    <tr>\n",
       "      <th>0</th>\n",
       "      <td>2</td>\n",
       "      <td>-1.0</td>\n",
       "      <td>1</td>\n",
       "      <td>0</td>\n",
       "      <td>6</td>\n",
       "      <td>2</td>\n",
       "      <td>4</td>\n",
       "      <td>7</td>\n",
       "      <td>2</td>\n",
       "      <td>3</td>\n",
       "      <td>8</td>\n",
       "      <td>-0.571268</td>\n",
       "      <td>0.820763</td>\n",
       "      <td>0.500000</td>\n",
       "      <td>-0.866025</td>\n",
       "      <td>0.309017</td>\n",
       "      <td>0.62349</td>\n",
       "      <td>-6.513725e-01</td>\n",
       "      <td>-0.758758</td>\n",
       "      <td>0.866025</td>\n",
       "      <td>5.000000e-01</td>\n",
       "      <td>-0.5</td>\n",
       "      <td>-0.222521</td>\n",
       "    </tr>\n",
       "    <tr>\n",
       "      <th>1</th>\n",
       "      <td>1</td>\n",
       "      <td>38.0</td>\n",
       "      <td>1</td>\n",
       "      <td>0</td>\n",
       "      <td>6</td>\n",
       "      <td>7</td>\n",
       "      <td>8</td>\n",
       "      <td>7</td>\n",
       "      <td>2</td>\n",
       "      <td>3</td>\n",
       "      <td>8</td>\n",
       "      <td>-0.937752</td>\n",
       "      <td>0.347305</td>\n",
       "      <td>0.866025</td>\n",
       "      <td>-0.500000</td>\n",
       "      <td>1.000000</td>\n",
       "      <td>0.62349</td>\n",
       "      <td>-9.987165e-01</td>\n",
       "      <td>-0.050649</td>\n",
       "      <td>0.866025</td>\n",
       "      <td>-5.000000e-01</td>\n",
       "      <td>-0.5</td>\n",
       "      <td>-0.900969</td>\n",
       "    </tr>\n",
       "    <tr>\n",
       "      <th>2</th>\n",
       "      <td>0</td>\n",
       "      <td>56.0</td>\n",
       "      <td>0</td>\n",
       "      <td>3</td>\n",
       "      <td>6</td>\n",
       "      <td>2</td>\n",
       "      <td>4</td>\n",
       "      <td>7</td>\n",
       "      <td>2</td>\n",
       "      <td>6</td>\n",
       "      <td>22</td>\n",
       "      <td>-0.571268</td>\n",
       "      <td>0.820763</td>\n",
       "      <td>-0.866025</td>\n",
       "      <td>-0.500000</td>\n",
       "      <td>0.309017</td>\n",
       "      <td>1.00000</td>\n",
       "      <td>9.680771e-01</td>\n",
       "      <td>-0.250653</td>\n",
       "      <td>0.500000</td>\n",
       "      <td>-8.660254e-01</td>\n",
       "      <td>-0.5</td>\n",
       "      <td>1.000000</td>\n",
       "    </tr>\n",
       "    <tr>\n",
       "      <th>3</th>\n",
       "      <td>0</td>\n",
       "      <td>42.0</td>\n",
       "      <td>1</td>\n",
       "      <td>0</td>\n",
       "      <td>6</td>\n",
       "      <td>2</td>\n",
       "      <td>4</td>\n",
       "      <td>7</td>\n",
       "      <td>2</td>\n",
       "      <td>3</td>\n",
       "      <td>17</td>\n",
       "      <td>0.848644</td>\n",
       "      <td>0.528964</td>\n",
       "      <td>-0.500000</td>\n",
       "      <td>0.866025</td>\n",
       "      <td>1.000000</td>\n",
       "      <td>0.62349</td>\n",
       "      <td>-2.449294e-16</td>\n",
       "      <td>1.000000</td>\n",
       "      <td>-1.000000</td>\n",
       "      <td>-1.836970e-16</td>\n",
       "      <td>-0.5</td>\n",
       "      <td>-0.900969</td>\n",
       "    </tr>\n",
       "    <tr>\n",
       "      <th>4</th>\n",
       "      <td>2</td>\n",
       "      <td>41.0</td>\n",
       "      <td>0</td>\n",
       "      <td>0</td>\n",
       "      <td>6</td>\n",
       "      <td>2</td>\n",
       "      <td>4</td>\n",
       "      <td>7</td>\n",
       "      <td>2</td>\n",
       "      <td>3</td>\n",
       "      <td>8</td>\n",
       "      <td>0.299363</td>\n",
       "      <td>-0.954139</td>\n",
       "      <td>-0.866025</td>\n",
       "      <td>-0.500000</td>\n",
       "      <td>0.309017</td>\n",
       "      <td>1.00000</td>\n",
       "      <td>9.987165e-01</td>\n",
       "      <td>-0.050649</td>\n",
       "      <td>-0.500000</td>\n",
       "      <td>8.660254e-01</td>\n",
       "      <td>-0.5</td>\n",
       "      <td>1.000000</td>\n",
       "    </tr>\n",
       "    <tr>\n",
       "      <th>...</th>\n",
       "      <td>...</td>\n",
       "      <td>...</td>\n",
       "      <td>...</td>\n",
       "      <td>...</td>\n",
       "      <td>...</td>\n",
       "      <td>...</td>\n",
       "      <td>...</td>\n",
       "      <td>...</td>\n",
       "      <td>...</td>\n",
       "      <td>...</td>\n",
       "      <td>...</td>\n",
       "      <td>...</td>\n",
       "      <td>...</td>\n",
       "      <td>...</td>\n",
       "      <td>...</td>\n",
       "      <td>...</td>\n",
       "      <td>...</td>\n",
       "      <td>...</td>\n",
       "      <td>...</td>\n",
       "      <td>...</td>\n",
       "      <td>...</td>\n",
       "      <td>...</td>\n",
       "      <td>...</td>\n",
       "    </tr>\n",
       "    <tr>\n",
       "      <th>213446</th>\n",
       "      <td>1</td>\n",
       "      <td>32.0</td>\n",
       "      <td>0</td>\n",
       "      <td>0</td>\n",
       "      <td>6</td>\n",
       "      <td>5</td>\n",
       "      <td>8</td>\n",
       "      <td>4</td>\n",
       "      <td>2</td>\n",
       "      <td>3</td>\n",
       "      <td>43</td>\n",
       "      <td>-0.201299</td>\n",
       "      <td>0.979530</td>\n",
       "      <td>0.500000</td>\n",
       "      <td>-0.866025</td>\n",
       "      <td>-0.809017</td>\n",
       "      <td>0.62349</td>\n",
       "      <td>-2.012985e-01</td>\n",
       "      <td>0.979530</td>\n",
       "      <td>0.500000</td>\n",
       "      <td>-8.660254e-01</td>\n",
       "      <td>-1.0</td>\n",
       "      <td>0.623490</td>\n",
       "    </tr>\n",
       "    <tr>\n",
       "      <th>213447</th>\n",
       "      <td>2</td>\n",
       "      <td>-1.0</td>\n",
       "      <td>0</td>\n",
       "      <td>0</td>\n",
       "      <td>6</td>\n",
       "      <td>2</td>\n",
       "      <td>4</td>\n",
       "      <td>1</td>\n",
       "      <td>2</td>\n",
       "      <td>6</td>\n",
       "      <td>8</td>\n",
       "      <td>-0.201299</td>\n",
       "      <td>0.979530</td>\n",
       "      <td>0.500000</td>\n",
       "      <td>-0.866025</td>\n",
       "      <td>-0.809017</td>\n",
       "      <td>0.62349</td>\n",
       "      <td>-2.012985e-01</td>\n",
       "      <td>0.979530</td>\n",
       "      <td>0.500000</td>\n",
       "      <td>-8.660254e-01</td>\n",
       "      <td>-1.0</td>\n",
       "      <td>0.623490</td>\n",
       "    </tr>\n",
       "    <tr>\n",
       "      <th>213448</th>\n",
       "      <td>2</td>\n",
       "      <td>32.0</td>\n",
       "      <td>0</td>\n",
       "      <td>0</td>\n",
       "      <td>6</td>\n",
       "      <td>2</td>\n",
       "      <td>4</td>\n",
       "      <td>7</td>\n",
       "      <td>2</td>\n",
       "      <td>3</td>\n",
       "      <td>17</td>\n",
       "      <td>-0.201299</td>\n",
       "      <td>0.979530</td>\n",
       "      <td>0.500000</td>\n",
       "      <td>-0.866025</td>\n",
       "      <td>-0.809017</td>\n",
       "      <td>0.62349</td>\n",
       "      <td>-2.012985e-01</td>\n",
       "      <td>0.979530</td>\n",
       "      <td>0.500000</td>\n",
       "      <td>-8.660254e-01</td>\n",
       "      <td>-1.0</td>\n",
       "      <td>0.623490</td>\n",
       "    </tr>\n",
       "    <tr>\n",
       "      <th>213449</th>\n",
       "      <td>2</td>\n",
       "      <td>-1.0</td>\n",
       "      <td>0</td>\n",
       "      <td>25</td>\n",
       "      <td>6</td>\n",
       "      <td>3</td>\n",
       "      <td>12</td>\n",
       "      <td>6</td>\n",
       "      <td>3</td>\n",
       "      <td>8</td>\n",
       "      <td>30</td>\n",
       "      <td>-0.201299</td>\n",
       "      <td>0.979530</td>\n",
       "      <td>0.500000</td>\n",
       "      <td>-0.866025</td>\n",
       "      <td>-0.809017</td>\n",
       "      <td>0.62349</td>\n",
       "      <td>-2.012985e-01</td>\n",
       "      <td>0.979530</td>\n",
       "      <td>0.500000</td>\n",
       "      <td>-8.660254e-01</td>\n",
       "      <td>-1.0</td>\n",
       "      <td>0.623490</td>\n",
       "    </tr>\n",
       "    <tr>\n",
       "      <th>213450</th>\n",
       "      <td>2</td>\n",
       "      <td>-1.0</td>\n",
       "      <td>0</td>\n",
       "      <td>25</td>\n",
       "      <td>6</td>\n",
       "      <td>2</td>\n",
       "      <td>4</td>\n",
       "      <td>7</td>\n",
       "      <td>3</td>\n",
       "      <td>8</td>\n",
       "      <td>0</td>\n",
       "      <td>-0.201299</td>\n",
       "      <td>0.979530</td>\n",
       "      <td>0.500000</td>\n",
       "      <td>-0.866025</td>\n",
       "      <td>-0.809017</td>\n",
       "      <td>0.62349</td>\n",
       "      <td>-2.012985e-01</td>\n",
       "      <td>0.979530</td>\n",
       "      <td>0.500000</td>\n",
       "      <td>-8.660254e-01</td>\n",
       "      <td>-1.0</td>\n",
       "      <td>0.623490</td>\n",
       "    </tr>\n",
       "  </tbody>\n",
       "</table>\n",
       "<p>213451 rows × 23 columns</p>\n",
       "</div>"
      ],
      "text/plain": [
       "        gender   age  signup_method  signup_flow  language  affiliate_channel  \\\n",
       "0            2  -1.0              1            0         6                  2   \n",
       "1            1  38.0              1            0         6                  7   \n",
       "2            0  56.0              0            3         6                  2   \n",
       "3            0  42.0              1            0         6                  2   \n",
       "4            2  41.0              0            0         6                  2   \n",
       "...        ...   ...            ...          ...       ...                ...   \n",
       "213446       1  32.0              0            0         6                  5   \n",
       "213447       2  -1.0              0            0         6                  2   \n",
       "213448       2  32.0              0            0         6                  2   \n",
       "213449       2  -1.0              0           25         6                  3   \n",
       "213450       2  -1.0              0           25         6                  2   \n",
       "\n",
       "        affiliate_provider  first_affiliate_tracked  signup_app  \\\n",
       "0                        4                        7           2   \n",
       "1                        8                        7           2   \n",
       "2                        4                        7           2   \n",
       "3                        4                        7           2   \n",
       "4                        4                        7           2   \n",
       "...                    ...                      ...         ...   \n",
       "213446                   8                        4           2   \n",
       "213447                   4                        1           2   \n",
       "213448                   4                        7           2   \n",
       "213449                  12                        6           3   \n",
       "213450                   4                        7           3   \n",
       "\n",
       "        first_device_type  first_browser  day__acc_sin  day_acc_cos  \\\n",
       "0                       3              8     -0.571268     0.820763   \n",
       "1                       3              8     -0.937752     0.347305   \n",
       "2                       6             22     -0.571268     0.820763   \n",
       "3                       3             17      0.848644     0.528964   \n",
       "4                       3              8      0.299363    -0.954139   \n",
       "...                   ...            ...           ...          ...   \n",
       "213446                  3             43     -0.201299     0.979530   \n",
       "213447                  6              8     -0.201299     0.979530   \n",
       "213448                  3             17     -0.201299     0.979530   \n",
       "213449                  8             30     -0.201299     0.979530   \n",
       "213450                  8              0     -0.201299     0.979530   \n",
       "\n",
       "        month_acc_sin  month_acc_cos  year_acc_cos  weekday_acc_cos  \\\n",
       "0            0.500000      -0.866025      0.309017          0.62349   \n",
       "1            0.866025      -0.500000      1.000000          0.62349   \n",
       "2           -0.866025      -0.500000      0.309017          1.00000   \n",
       "3           -0.500000       0.866025      1.000000          0.62349   \n",
       "4           -0.866025      -0.500000      0.309017          1.00000   \n",
       "...               ...            ...           ...              ...   \n",
       "213446       0.500000      -0.866025     -0.809017          0.62349   \n",
       "213447       0.500000      -0.866025     -0.809017          0.62349   \n",
       "213448       0.500000      -0.866025     -0.809017          0.62349   \n",
       "213449       0.500000      -0.866025     -0.809017          0.62349   \n",
       "213450       0.500000      -0.866025     -0.809017          0.62349   \n",
       "\n",
       "        day__act_sin  day_act_cos  month_act_sin  month_act_cos  year_act_cos  \\\n",
       "0      -6.513725e-01    -0.758758       0.866025   5.000000e-01          -0.5   \n",
       "1      -9.987165e-01    -0.050649       0.866025  -5.000000e-01          -0.5   \n",
       "2       9.680771e-01    -0.250653       0.500000  -8.660254e-01          -0.5   \n",
       "3      -2.449294e-16     1.000000      -1.000000  -1.836970e-16          -0.5   \n",
       "4       9.987165e-01    -0.050649      -0.500000   8.660254e-01          -0.5   \n",
       "...              ...          ...            ...            ...           ...   \n",
       "213446 -2.012985e-01     0.979530       0.500000  -8.660254e-01          -1.0   \n",
       "213447 -2.012985e-01     0.979530       0.500000  -8.660254e-01          -1.0   \n",
       "213448 -2.012985e-01     0.979530       0.500000  -8.660254e-01          -1.0   \n",
       "213449 -2.012985e-01     0.979530       0.500000  -8.660254e-01          -1.0   \n",
       "213450 -2.012985e-01     0.979530       0.500000  -8.660254e-01          -1.0   \n",
       "\n",
       "        weekday_act_cos  \n",
       "0             -0.222521  \n",
       "1             -0.900969  \n",
       "2              1.000000  \n",
       "3             -0.900969  \n",
       "4              1.000000  \n",
       "...                 ...  \n",
       "213446         0.623490  \n",
       "213447         0.623490  \n",
       "213448         0.623490  \n",
       "213449         0.623490  \n",
       "213450         0.623490  \n",
       "\n",
       "[213451 rows x 23 columns]"
      ]
     },
     "execution_count": 850,
     "metadata": {},
     "output_type": "execute_result"
    }
   ],
   "source": [
    "train"
   ]
  },
  {
   "cell_type": "code",
   "execution_count": 851,
   "metadata": {},
   "outputs": [],
   "source": [
    "ids = []  #list of ids\n",
    "cts = []  #list of countries\n",
    "for i in range(len(test_id)):\n",
    "    idx = test_id[i]\n",
    "    ids += [idx] * 5\n",
    "    cts += le.inverse_transform(np.argsort(y_pred[i])[::-1])[:5].tolist()"
   ]
  },
  {
   "cell_type": "code",
   "execution_count": 857,
   "metadata": {},
   "outputs": [],
   "source": [
    "test_ids = [test_id[0]] * 5"
   ]
  },
  {
   "cell_type": "code",
   "execution_count": 858,
   "metadata": {},
   "outputs": [
    {
     "data": {
      "text/html": [
       "['5uwns89zht', '5uwns89zht', '5uwns89zht', '5uwns89zht', '5uwns89zht']"
      ],
      "text/plain": [
       "['5uwns89zht', '5uwns89zht', '5uwns89zht', '5uwns89zht', '5uwns89zht']"
      ]
     },
     "execution_count": 858,
     "metadata": {},
     "output_type": "execute_result"
    }
   ],
   "source": [
    "test_ids"
   ]
  },
  {
   "cell_type": "code",
   "execution_count": 866,
   "metadata": {},
   "outputs": [
    {
     "data": {
      "text/html": [
       "['NDF', 'US', 'other', 'FR', 'IT']"
      ],
      "text/plain": [
       "['NDF', 'US', 'other', 'FR', 'IT']"
      ]
     },
     "execution_count": 866,
     "metadata": {},
     "output_type": "execute_result"
    }
   ],
   "source": [
    "le.inverse_transform(np.argsort(y_pred[0])[::-1])[:5].tolist()"
   ]
  },
  {
   "cell_type": "code",
   "execution_count": 867,
   "metadata": {},
   "outputs": [],
   "source": [
    "sub = pd.DataFrame(np.column_stack((ids, cts)), columns=['id', 'country'])\n",
    "sub.to_csv('submission.csv', index=False)"
   ]
  },
  {
   "cell_type": "markdown",
   "metadata": {},
   "source": [
    "next thing to do, group by and apply median age to that group to not have -1 "
   ]
  },
  {
   "cell_type": "code",
   "execution_count": null,
   "metadata": {},
   "outputs": [],
   "source": []
  }
 ],
 "metadata": {
  "kernelspec": {
   "display_name": "Python 3",
   "language": "python",
   "name": "python3"
  },
  "language_info": {
   "codemirror_mode": {
    "name": "ipython",
    "version": 3
   },
   "file_extension": ".py",
   "mimetype": "text/x-python",
   "name": "python",
   "nbconvert_exporter": "python",
   "pygments_lexer": "ipython3",
   "version": "3.7.3"
  }
 },
 "nbformat": 4,
 "nbformat_minor": 4
}
